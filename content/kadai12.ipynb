{
 "cells": [
  {
   "cell_type": "markdown",
   "id": "d68fd9a2-9f90-491b-ac11-0d8533952909",
   "metadata": {},
   "source": [
    "# コンピュータの言語2024：課題12 辞書(Dictionary)型 とその活用\n",
    "\n",
    "前回の授業では辞書型を紹介しましたので，辞書型の練習をします．\n",
    "\n",
    "## データの作成\n",
    "辞書型は key と value の組み合わせからなるデータ型ですので，それらの組み合わせを コロン ```:``` を使って対応させて定義します．"
   ]
  },
  {
   "cell_type": "code",
   "execution_count": null,
   "id": "544ed145-d08f-434c-aad0-359041535ec1",
   "metadata": {},
   "outputs": [],
   "source": [
    "dic = {\"大阪\":\"たこ焼き\", \"京都\":\"生八ツ橋\", \"名古屋\":\"ういろう\"}\n",
    "print(dic)"
   ]
  },
  {
   "cell_type": "markdown",
   "id": "6533e998-8ad0-4db2-b1ff-9ddd19415ea9",
   "metadata": {},
   "source": [
    "空の辞書を定義しておいて，それにデータを付け加えていくこともできます．"
   ]
  },
  {
   "cell_type": "code",
   "execution_count": null,
   "id": "b6df232b-03b7-4f01-b5ad-abc57c8bb98d",
   "metadata": {},
   "outputs": [],
   "source": [
    "dic = {}\n",
    "dic[\"りんご\"] = \"赤\"\n",
    "dic[\"みかん\"] = \"オレンジ\"\n",
    "print(dic)"
   ]
  },
  {
   "cell_type": "markdown",
   "id": "572acdf5-5450-4cae-87dc-9f05fefe6e89",
   "metadata": {},
   "source": [
    "## 演習１\n",
    "* 以下の国名と首都の組み合わせについて，国名を key， 首都を value として辞書型のデータ wc を作成してください．\n",
    "\n",
    "| | |\n",
    "|---|---|\n",
    "| アルゼンチン | ブエノスアイレス |\n",
    "| クロアチア | ザグレブ |\n",
    "| フランス | パリ |\n",
    "| モロッコ | ラバト |"
   ]
  },
  {
   "cell_type": "code",
   "execution_count": null,
   "id": "0197ae50-33ba-47e8-a101-7c5195da8bc5",
   "metadata": {},
   "outputs": [],
   "source": [
    "wc = xxxxxxxxxxxxxxxxx\n",
    "print(wc)\n"
   ]
  },
  {
   "cell_type": "markdown",
   "id": "c22ba1f4-34d9-44ad-8aaa-373f7398149f",
   "metadata": {},
   "source": [
    "## 練習２\n",
    "2022年ワールドカップのグループEでは以下のような結果でした．\n",
    "\n",
    "|チーム|ポイント|\n",
    "|-----|-----|\n",
    "|日本| 6 |\n",
    "| スペイン | 4 |\n",
    "| ドイツ | 4 |\n",
    "| コスタリカ | 3 |\n",
    "\n",
    "国名，ポイントがリストになっているとき，これらのデータから国名を key ，ポイントを value とした辞書型のデータを作成してください．"
   ]
  },
  {
   "cell_type": "code",
   "execution_count": null,
   "id": "a6796bc8-7eff-4a32-909e-15f85ec0ef09",
   "metadata": {},
   "outputs": [],
   "source": [
    "countries = [\"日本\", \"スペイン\", \"ドイツ\", \"コスタリカ\"]\n",
    "pts = [6, 4, 4, 3]\n",
    "\n",
    "group_e = {}\n",
    "for i in range(4):\n",
    "    xxxxxxxxxxxxx\n",
    "    \n",
    "print(group_e)\n"
   ]
  },
  {
   "cell_type": "markdown",
   "id": "22cbfd74-59dc-4509-8960-f172defc8647",
   "metadata": {},
   "source": [
    "## 練習３\n",
    "\n",
    "辞書型はO(1) でデータにある key の値が含まれているかどうかを調べることができます．\n",
    "これを利用して，ある文字列に含まれるアルファベットの数を調べることができます．\n",
    "\n",
    "そのために，\n",
    "もし辞書データに前もって key の値が含まれていない場合には，新しく key を value の値を 1 として追加し，key の値が含まれている場合には，その value の値を１個増やすようなプログラムを組んでみましょう．"
   ]
  },
  {
   "cell_type": "code",
   "execution_count": null,
   "id": "cd3f0293-ecc4-40a2-b459-195fce99e742",
   "metadata": {},
   "outputs": [],
   "source": [
    "\n",
    "a_string = \"Born and raised in central Argentina, Messi relocated to Spain at the age of 13 to join Barcelona, for whom he made his competitive debut aged 17 in October 2004.\"\n",
    "\n",
    "def count(sentence):\n",
    "    dic = {}\n",
    "    for char in sentence:\n",
    "        if char in dic:\n",
    "            dic[char] += 1\n",
    "        else:\n",
    "            xxxxxxxxxxxxx\n",
    "    return dic\n",
    "    \n",
    "ret = count(a_string)\n",
    "print(ret)"
   ]
  },
  {
   "cell_type": "markdown",
   "id": "730a3bab-c7d0-43f6-9dca-e3b8e912d967",
   "metadata": {},
   "source": [
    "## 練習４\n",
    "上記のプログラムを参考に，文に含まれている単語数を数えるプログラムを完成させてください．文を単語に分けるには，以下のように replace, split というメソッドが使えます．"
   ]
  },
  {
   "cell_type": "code",
   "execution_count": null,
   "id": "00162874-a75f-4157-bdcd-9c3b2f806818",
   "metadata": {},
   "outputs": [],
   "source": [
    "a_sentence = \"An apple is an edible fruit produced by an apple tree (Malus domestica). Apple trees are cultivated worldwide and are the most widely grown species in the genus Malus. The tree originated in Central Asia, where its wild ancestor, Malus sieversii, is still found today. Apples have been grown for thousands of years in Asia and Europe and were brought to North America by European colonists. Apples have religious and mythological significance in many cultures, including Norse, Greek, and European Christian tradition.Apples grown from seed tend to be very different from those of their parents, and the resultant fruit frequently lacks desired characteristics. Generally, apple cultivars are propagated by clonal grafting onto rootstocks. Apple trees grown without rootstocks tend to be larger and much slower to fruit after planting. Rootstocks are used to control the speed of growth and the size of the resulting tree, allowing for easier harvesting.\"\n",
    "b_sentence = a_sentence.replace(\".\",\"\")  #ピリオドを削除\n",
    "c_sentence = b_sentence.split(\" \")       #スペースで単語に分ける\n",
    "print(c_sentence)"
   ]
  },
  {
   "cell_type": "code",
   "execution_count": null,
   "id": "ff5930ac-bd69-47e0-a165-0d95a8f46f1f",
   "metadata": {},
   "outputs": [],
   "source": [
    "a_sentence = \"An apple is an edible fruit produced by an apple tree (Malus domestica). Apple trees are cultivated worldwide and are the most widely grown species in the genus Malus. The tree originated in Central Asia, where its wild ancestor, Malus sieversii, is still found today. Apples have been grown for thousands of years in Asia and Europe and were brought to North America by European colonists. Apples have religious and mythological significance in many cultures, including Norse, Greek, and European Christian tradition.Apples grown from seed tend to be very different from those of their parents, and the resultant fruit frequently lacks desired characteristics. Generally, apple cultivars are propagated by clonal grafting onto rootstocks. Apple trees grown without rootstocks tend to be larger and much slower to fruit after planting. Rootstocks are used to control the speed of growth and the size of the resulting tree, allowing for easier harvesting.\"\n",
    "b_sentence = a_sentence.replace(\".\",\"\") #ピリオドを削除\n",
    "a_words = b_sentence.split(\" \") #a_sentence をスペース\" \" 区切りで区切る．\n",
    "def count_words(sentence)\n",
    "x\n",
    "x\n",
    "x\n",
    "x\n",
    "x\n",
    "\n",
    "ret = count_words(a_words)\n",
    "\n",
    "print(ret)"
   ]
  },
  {
   "cell_type": "markdown",
   "id": "c5ef64f3-f9e1-42d1-819b-4d0f631e3930",
   "metadata": {},
   "source": [
    "# フィボナッチ数列\n",
    "\n",
    "フィボナッチ数列とは\n",
    "```\n",
    "1 1 2 3 5 8 13 ...\n",
    "```\n",
    "のように前の2つの数を足し合わせて次の項を作っていく数列です．\n",
    "最初の2つは 1 としますので，n 番目の項を \"$A_n$\" とすると，\n",
    "\n",
    "$$\n",
    "A_0 = 1\n",
    "$$\n",
    "$$\n",
    "A_1 = 1\n",
    "$$\n",
    "$$\n",
    "A_2 = A_0+A_1 = 1 + 1 =2\n",
    "$$\n",
    "$$\n",
    "A_3 = A_1+A_2 = 1 + 2 = 3\n",
    "$$\n",
    "$$\n",
    "A_4 = A_3+A_4 = 2 + 3 = 5\\\\\n",
    "$$\n",
    "\n",
    "のように計算されます．\n",
    "\n",
    "このフィボナッチ数列は再帰を使って書くことができます．"
   ]
  },
  {
   "cell_type": "code",
   "execution_count": null,
   "id": "ce2bcb95-092d-4f7c-8388-e655d359cf9f",
   "metadata": {},
   "outputs": [],
   "source": [
    "\n",
    "def fibo(n):\n",
    "    if n==0:\n",
    "        return 1\n",
    "    elif n==1:\n",
    "        return 1\n",
    "    else:\n",
    "        return fibo(n-2) + fibo(n-1)\n",
    "\n",
    "for i in range(10):\n",
    "    print(i, fibo(i))"
   ]
  },
  {
   "cell_type": "markdown",
   "id": "2ba35465-338a-47ad-97d7-2ab858aa343a",
   "metadata": {},
   "source": [
    "### 練習\n",
    "この fibo(30) を求めるのに，fibo 関数は何回呼び出されたでしょうか？数えるための変数を用意して数えてみてください．(ヒント：これまでの課題を思い出しましょう． global も使いましょう）"
   ]
  },
  {
   "cell_type": "code",
   "execution_count": null,
   "id": "10de9e94-556b-4ef7-b8f1-7886bdc85855",
   "metadata": {},
   "outputs": [],
   "source": [
    "count_fibo = 0   # カウントするための変数\n",
    "\n",
    "x\n",
    "x\n",
    "x\n",
    "x\n",
    "x\n",
    "\n",
    "print(count_fibo)"
   ]
  },
  {
   "cell_type": "markdown",
   "id": "a42a0a22-3616-4233-8034-e008e4c58842",
   "metadata": {},
   "source": [
    "## フィボナッチ数列の計算とメモ化\n",
    "上記の関数を実行すると，例えば，\n",
    "* fibo(10) を与えると fibo(9), fibo(8) が呼び出され，\n",
    "* fibo(9) からは fibo(7), fibo(8)が呼び出され，\n",
    "* fibo(8) からは fibo(6), fibo(7) が呼び出されます．\n",
    "そしてさらに，そこから小さい数の fibo が呼び出されますが，よく見ると，同じ数の fibo が何度も呼び出されることに気がつくかと思います．\n",
    "これは，計算としては無駄が多いということになります．\n",
    "\n",
    "このようなとき，前に計算した結果を __再利用__ することができれば便利です．\n",
    "前に計算した結果を覚えておき，それを再利用するときに辞書型が役に立ちます．このような計算の工夫を __メモ化__ といいます．\n",
    "\n",
    "例えば，覚えておくための辞書を ```fib_memo``` とすると，n=4 について計算していれば\n",
    "```fib_memo[4]``` があるはずですが，それは ``` 4 in fib_memo.keys()``` で調べることができます．もしなければ，計算して貰えば良いです．\n",
    "\n",
    "```python\n",
    "fig_memo[4] = fibo(2) + fib(3)\n",
    "```\n",
    "\n",
    "では，これをプログラムで書いてみましょう．"
   ]
  },
  {
   "cell_type": "code",
   "execution_count": 3,
   "id": "0b6eab7a-0060-4cc4-853b-0e9c7444719b",
   "metadata": {},
   "outputs": [],
   "source": [
    "fib_memo = {}\n",
    "\n",
    "def fibo2(n):\n",
    "    if n==0:\n",
    "        return 1\n",
    "    elif n==1:\n",
    "        return 1\n",
    "    else:\n",
    "        if n in fib_memo.keys():  # もしすでに計算していたら，その値を返す\n",
    "            return fib_memo[n]\n",
    "        else: # そうでなければ計算して fib_memo に保存し，その値を返す\n",
    "            fib_memo[n] = fibo2(n-1) + fibo2(n-2)\n",
    "            return fib_memo[n]\n"
   ]
  },
  {
   "cell_type": "markdown",
   "id": "99337a72-8123-4a7e-893f-dccc01eddcf0",
   "metadata": {},
   "source": [
    "## 練習\n",
    "\n",
    "通常のフィボナッチ数列のプログラム fibo とメモ化を利用したプログラム fibo2 で n=20 としたときの実行時間を比較してください．(time モジュールを使ってください）\n",
    "\n",
    "```python\n",
    "\n",
    "```"
   ]
  },
  {
   "cell_type": "code",
   "execution_count": null,
   "id": "5a0d88e0-937e-4624-a4de-2236f739b831",
   "metadata": {},
   "outputs": [],
   "source": [
    "import time\n",
    "\n",
    "t1 = time.time()\n",
    "xxxxxxxxxxxxxxx\n",
    "t2 = time.time()\n",
    "print(f\"fibo は {t2-t1} 秒かかった\")\n",
    "\n",
    "t3 = time.time()\n",
    "xxxxxxxxxxxxxx\n",
    "t4 = time.time()\n",
    "print(f\"fibo2 は {t4-t3} 秒かかった\")"
   ]
  },
  {
   "cell_type": "markdown",
   "id": "08f35763-a238-4aa3-a331-556aef70d8c5",
   "metadata": {},
   "source": [
    "# 課題提出"
   ]
  },
  {
   "cell_type": "markdown",
   "id": "922e63e0-231b-480f-be0f-41d18ff82b61",
   "metadata": {},
   "source": [
    "名前：\n",
    "学籍番号："
   ]
  },
  {
   "cell_type": "markdown",
   "id": "53af6832-c9a6-4217-b4c6-87ffaa5089d7",
   "metadata": {},
   "source": [
    "感想："
   ]
  }
 ],
 "metadata": {
  "kernelspec": {
   "display_name": "Python 3 (ipykernel)",
   "language": "python",
   "name": "python3"
  },
  "language_info": {
   "codemirror_mode": {
    "name": "ipython",
    "version": 3
   },
   "file_extension": ".py",
   "mimetype": "text/x-python",
   "name": "python",
   "nbconvert_exporter": "python",
   "pygments_lexer": "ipython3",
   "version": "3.11.5"
  }
 },
 "nbformat": 4,
 "nbformat_minor": 5
}
