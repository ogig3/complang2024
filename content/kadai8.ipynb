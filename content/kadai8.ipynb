{
 "cells": [
  {
   "cell_type": "markdown",
   "metadata": {},
   "source": [
    "# コンピュータの言語2024：課題8\n",
    "\n",
    "今回の授業では他のファイルに書かれた関数をモジュールとして呼び出す方法，そして色の表現について学びました．以下はそれについての演習です．"
   ]
  },
  {
   "cell_type": "markdown",
   "metadata": {},
   "source": [
    "## モジュール\n",
    "\n",
    "授業のスライドでは，別のファイルに書かれた関数を使いたいときには，モジュールとしてファイル名を呼び出す，ということを紹介しました．\n",
    "\n",
    "例えば，以下のような計算に関するライブラリ \"calc.py\" を作成したとします．\n",
    "\n",
    "```python\n",
    "def add(x,y):\n",
    "\treturn x+y\n",
    "def sub(x,y):\n",
    "\treturn x-y\n",
    "def mul(x,y):\n",
    "\treturn x*y\n",
    "```\n",
    "\n",
    "まずは，このコードが書かれたファイルを，以下のプログラムを実行してダウンロードしてください．（コードを理解する必要はありません）"
   ]
  },
  {
   "cell_type": "code",
   "execution_count": 1,
   "metadata": {},
   "outputs": [
    {
     "data": {
      "text/plain": [
       "('calc.py', <http.client.HTTPMessage at 0x105125f50>)"
      ]
     },
     "execution_count": 1,
     "metadata": {},
     "output_type": "execute_result"
    }
   ],
   "source": [
    "import urllib.request\n",
    "\n",
    "url = \"http://ogilab.kutc.kansai-u.ac.jp/complang/downloads/calc.py\" #ファイルのURL\n",
    "title = \"calc.py\" #保存するファイル名\n",
    "urllib.request.urlretrieve(url,title)"
   ]
  },
  {
   "cell_type": "markdown",
   "metadata": {},
   "source": [
    "ファイルのメニューを見ると，このファイルができているのが確認できると思います．\n",
    "それでは，このファイルに記述されている関数を使ってみましょう．"
   ]
  },
  {
   "cell_type": "code",
   "execution_count": null,
   "metadata": {},
   "outputs": [],
   "source": [
    "import calc\n",
    "\n",
    "a=2\n",
    "b=3\n",
    "\n",
    "x = calc.add(a,b)\n",
    "print(x)"
   ]
  },
  {
   "cell_type": "markdown",
   "metadata": {},
   "source": [
    "ある関数だけを読み込むときには以下のようにできます．"
   ]
  },
  {
   "cell_type": "markdown",
   "metadata": {},
   "source": [
    "さらに，全ての関数を読み込むときには，全てという意味で * という記号を使って以下のように書くことができます．"
   ]
  },
  {
   "cell_type": "code",
   "execution_count": null,
   "metadata": {},
   "outputs": [],
   "source": [
    "from calc import *\n",
    "\n",
    "print(\"input: 2,3\")\n",
    "print(\"add:\", add(2,3))\n",
    "print(\"sub:\", sub(2,3))\n",
    "print(\"mul:\", mul(2,3))"
   ]
  },
  {
   "cell_type": "markdown",
   "metadata": {},
   "source": [
    "ただし，プログラムの規模が多くなってくると，あるファイルで定義された関数の名前が，別のファイルで定義された関数の名前と一緒になってしまい，意図しない挙動をしてしまうことが出てくるという問題が生じます．ですので，上記の書き方は推奨されていません．\n",
    "\n",
    "ですが，モジュールの名前を短く書けるように，以下のように，名前をつけ直すという書き方ができます．"
   ]
  },
  {
   "cell_type": "code",
   "execution_count": null,
   "metadata": {},
   "outputs": [],
   "source": [
    "import calc as cal\n",
    "\n",
    "print( cal.add(2,3) )"
   ]
  },
  {
   "cell_type": "markdown",
   "metadata": {},
   "source": [
    "\"calc\" というモジュールを cal という名前として(as) 使うという意味ですね．\n",
    "\n",
    "以下のプログラムを試してください．また，別の書き方ができるということも試してください．"
   ]
  },
  {
   "cell_type": "code",
   "execution_count": null,
   "metadata": {},
   "outputs": [],
   "source": [
    "import calc\n",
    "\n",
    "a = 2\n",
    "b = 3\n",
    "\n",
    "print( calc.add(a,b) )\n",
    "print( calc.sub(a,b) )\n",
    "print( calc.mul(a,b) )"
   ]
  },
  {
   "cell_type": "markdown",
   "metadata": {},
   "source": [
    "### 練習1\n",
    "\n",
    "Python にあらかじめ組み込まれているモジュールも同様に呼び出すことができます．Python にはデフォルトで非常に[多くのモジュール](https://docs.python.jp/3/library/)が用意されています．\n",
    "\n",
    "ここでは，そのいくつかを呼び出してみましょう．\n",
    "\n",
    "(A) [calendar](https://news.mynavi.jp/article/zeropython-20/) というモジュールは指定した年月のカレンダーを表示してくれます．\n",
    "以下の関数が機能するように，XXXXXX を書き換えてください．"
   ]
  },
  {
   "cell_type": "code",
   "execution_count": null,
   "metadata": {},
   "outputs": [],
   "source": [
    " import calendar as cal\n",
    " print( XXXXXX.month(2024, 11)) # 2024年11月のカレンダーを表示"
   ]
  },
  {
   "cell_type": "markdown",
   "metadata": {},
   "source": [
    "(B) 乱数はガチャなどのくじを作ったりするときに重要です．random というモジュールは様々な方法で乱数を生成する関数を提供してくれます．その中に ```randint``` という関数は指定した範囲でランダムな整数を出力してくれます．\n",
    "\n",
    "この関数が機能するように，XXXXXX を書き換えてください．"
   ]
  },
  {
   "cell_type": "code",
   "execution_count": null,
   "metadata": {},
   "outputs": [],
   "source": [
    "import random as rand\n",
    "\n",
    "for i in range(10):\n",
    "    x = XXXXXX.randint(1,10)   #1 から 10 の中から乱数を生成する\n",
    "    print(x)"
   ]
  },
  {
   "cell_type": "markdown",
   "metadata": {},
   "source": [
    "### 練習2\n",
    "あなたが何かの作品を制作したり商品をデザインするとき様々な色があるということに驚くでしょう．色を決めるためには全体のバランスを考えて[配色](http://ja.wikipedia.org/wiki/配色)などに気を使わなければなりませんし，また，それによって引き出したい雰囲気を出すことが可能です．そのためには色々なツールがありますが，その一つとして「[日本の伝統色](http://nipponcolors.com/#nakabeni)」には様々な伝統色についての RGB あるいは\n",
    "CMYK表現が参照できるようになっています．その中の「鶯」という色について，RGBによる１６進数表現を求め，#ABCDEF のように答えてください．"
   ]
  },
  {
   "cell_type": "markdown",
   "metadata": {},
   "source": [
    "鶯の色は \"#xxxxxx\""
   ]
  },
  {
   "cell_type": "markdown",
   "metadata": {},
   "source": [
    "## ピクセル・ドット\n",
    "\n",
    "コンピュータで画像を扱うときの，色情報を持つ最小単位のことを __画素（ピクセル）__ と言います．また画面上に表示する場合の最小単位を __ドット__ と言います．これらは同一の言葉として使われることも多いです．\n",
    "\n",
    "## 画像の大きさ\n",
    "今回の授業では色の表現について学びました．１つのピクセルについて，RGB の３色を使って表現する場合，一つの色について２５６段階（１バイト）で表現したとすると，１ピクセルあたり 3 [バイト] 必要ということになります．iPhone6 のカメラは 800万画素であるそうですので，写真１枚当たりのファイルサイズは以下のように計算することができます．"
   ]
  },
  {
   "cell_type": "code",
   "execution_count": null,
   "metadata": {},
   "outputs": [],
   "source": [
    "gaso = 800*(10**4)\n",
    "print( \"size=\", gaso*3, \"[Byte]\" )\n",
    "print( \"size=\", gaso*3/1024, \"[KByte]\")\n",
    "print( \"size=\", gaso*3/1024/1024, \"[MByte]\")"
   ]
  },
  {
   "cell_type": "markdown",
   "metadata": {},
   "source": [
    "実際には，画像は jpeg などの形式で圧縮されて保存されますので，ここまで大きなファイルサイズにはなりません．"
   ]
  },
  {
   "cell_type": "markdown",
   "metadata": {},
   "source": [
    "### 練習3\n",
    "以下の画像は，画素数から計算されるサイズに比べて，圧縮率を計算してみましょう．この画像は幅 320 ピクセル，高さ 240ピクセルです．（画像のサイズはダウンロードしてプロパティを見るなどして調べてください．圧縮率は例えば，800 kbyte のサイズが 400 kbyte に圧縮されていたら，(圧縮後のサイズ)/(圧縮前のサイズ)x100=400/800x100=50% と計算してください．）\n",
    "\n",
    "![](https://ogilab.kutc.kansai-u.ac.jp/downloads/complang/figs_kadai08/pasta.jpg)"
   ]
  },
  {
   "cell_type": "code",
   "execution_count": null,
   "metadata": {},
   "outputs": [],
   "source": [
    "gaso = 320 * 240\n",
    "file_size = gaso * 3   # 単位は [byte]\n",
    "\n",
    "jpeg_size = 21130\n",
    "\n",
    "compress_rate = XXXXXXXXXXXXXXX\n",
    "\n",
    "print( \"圧縮率は\",compress_rate,\"%\" )"
   ]
  },
  {
   "cell_type": "markdown",
   "metadata": {},
   "source": [
    "### 練習4（基本情報処理技術者試験より改変）\n",
    "\n",
    "１文字が，縦 32 ドット，横 32 ドットで表される２値ビットマップのフォントがある。 文字データが 8,192 種類あるとき，文字データ全体を保存するために必要な領域は何メガバイトか。 ここで，１M バイト＝1,024k バイト，1k バイト＝1,024 バイトとし， 文字データは圧縮しないものとする。"
   ]
  },
  {
   "cell_type": "code",
   "execution_count": null,
   "metadata": {},
   "outputs": [],
   "source": [
    "\n",
    "\n",
    "tate = 32\n",
    "yoko = 32\n",
    "\n",
    "font_size = tate*yoko\n",
    "\n",
    "moji_zentai_size = font_size * 8192/8\n",
    "\n",
    "Kbyte_size = moji_zentai_size / 1024\n",
    "Mbyte_size = Kbyte_size / 1024\n",
    "\n",
    "print( \"文字データ全体を保存するために必要な領域は\", Mbyte_size, \"メガバイト\")\n"
   ]
  },
  {
   "cell_type": "markdown",
   "metadata": {},
   "source": [
    "## dpi\n",
    "\n",
    "最近のスマートフォンのディスプレイは画素がほとんど見えなくらいに高精細になってきました．画面の細かさ（__解像度__）の指標の一つとして __dpi__ というものがあります．これは１インチあたりにどれくらいの数のドットが入っているか（ドット・パー・インチ）を表す数です．１インチは 2.54cm ですので，2.54cm あたりにどれくらいのドットあるいは画素が入っているかということになります．（ディスプレイの場合はピクセルが単位ですので，__ppi__(ピクセル・パー・インチ）ということもありますが，意味は dpi と同じと思ってよいでしょう．）\n",
    "\n",
    "例えば，人間の目にはドットのつぶつぶが区別できないと言われている Retina Display を持つ iPhone16 の場合はディスプレイは 460 dpi(ppi) です．また，商業印刷の場合には 300-350 dpi くらいの解像度になっています．\n",
    "\n",
    "参考：[インファクト：販促物を依頼する上で知っておきたい画像の基礎知識](https://www.infact1.co.jp/staff_blog/webmarketing/webdesign/1464/)\n",
    "\n"
   ]
  },
  {
   "cell_type": "markdown",
   "metadata": {},
   "source": [
    "## 練習5（挑戦）\n",
    "\n",
    "人間の目は 1/100度程度の角度で見分けられるとされています．40cm 程度のところにあるスマートフォンの画面の画素（ピクセル）が見分けられなくなるのはどのくらいの dpi からでしょうか？　（ちなみに，iPhone13 は 476ppi です．[iPhone13の仕様](https://www.apple.com/jp/iphone-13/specs/)）\n",
    "\n",
    "#### ヒント\n",
    "\n",
    "角度 $\\theta$ で距離 $L$ 離れたところの長さ $x$ は\n",
    "\n",
    "$$\n",
    "x = L \\tan(\\theta) \n",
    "$$\n",
    "\n",
    "\n",
    "![](https://ogilab.kutc.kansai-u.ac.jp/downloads/complang/figs_kadai08/tan.png)\n",
    "\n",
    "と計算することができます．\n",
    "python で，角度 theta = 0.01 [度]で L=0.4 [m]の距離での長さは以下のように計算することができます．"
   ]
  },
  {
   "cell_type": "code",
   "execution_count": null,
   "metadata": {
    "collapsed": false,
    "jupyter": {
     "outputs_hidden": false
    }
   },
   "outputs": [],
   "source": [
    "import math\n",
    "\n",
    "L = 0.4\n",
    "theta = 0.01 * math.pi/180.0   # 角度をラジアンに変換\n",
    "\n",
    "# 見分けられる距離\n",
    "x = L*math.tan(theta)\n",
    "\n",
    "# 2.54cm に含まれる x の個数は？\n",
    "n = XXXXXXXXXXXX\n",
    "\n",
    "print(f'見分けられなくなるのは{n} dpi から')"
   ]
  },
  {
   "cell_type": "markdown",
   "metadata": {},
   "source": [
    "見分けられなくなるのは XXX dpi から．"
   ]
  },
  {
   "cell_type": "markdown",
   "metadata": {},
   "source": [
    "## 画像処理ライブラリ PIL\n",
    "\n",
    "Python には画像を扱うためのライブラリがいくつかありますが，その中から今回は PIL(Python Imaging Library) を紹介します．\n",
    "\n",
    "まず練習で使う画像ファイルをダウンロードして保存します．"
   ]
  },
  {
   "cell_type": "code",
   "execution_count": null,
   "metadata": {},
   "outputs": [],
   "source": [
    "# 練習で使う画像ファイルをダウンロードして保存\n",
    "import urllib.request\n",
    "\n",
    "url = \"http://ogilab.kutc.kansai-u.ac.jp/downloads/complang/figs_kadai08/pasta.jpg\" #ファイルのURL\n",
    "title = \"pasta.jpg\" #保存するファイル名\n",
    "urllib.request.urlretrieve(url,title)\n",
    "\n",
    "url = \"http://ogilab.kutc.kansai-u.ac.jp/downloads/complang/figs_kadai08/dog.jpg\" #ファイルのURL\n",
    "title = \"dog.jpg\" #保存するファイル名\n",
    "urllib.request.urlretrieve(url,title)"
   ]
  },
  {
   "cell_type": "markdown",
   "metadata": {},
   "source": [
    "PIL でディレクトリにある画像を読み込んでくるためには以下のようにします．"
   ]
  },
  {
   "cell_type": "code",
   "execution_count": null,
   "metadata": {},
   "outputs": [],
   "source": [
    "from PIL import Image\n",
    "\n",
    "img = Image.open(\"./pasta.jpg\")\n",
    "\n",
    "print( img.size ) # 画像のサイズ\n",
    "print( img.mode ) # 画像のモード（白黒？，カラー？など）"
   ]
  },
  {
   "cell_type": "markdown",
   "metadata": {},
   "source": [
    "画像を表示するためは，```show``` というメソッドがありますが，google colab では使えません．"
   ]
  },
  {
   "cell_type": "code",
   "execution_count": null,
   "metadata": {},
   "outputs": [],
   "source": [
    "img.show()"
   ]
  },
  {
   "cell_type": "markdown",
   "metadata": {},
   "source": [
    "google colab の中で画像を表示するために，この授業では以下のように関数 'myshow' を用意しました．（今回はこの関数の意味は理解する必要はありません）"
   ]
  },
  {
   "cell_type": "code",
   "execution_count": null,
   "metadata": {},
   "outputs": [],
   "source": [
    "import matplotlib.pyplot as plt\n",
    "import numpy as np\n",
    "\n",
    "def myshow(img):\n",
    "    npimg = np.array(img) # numpy 配列に変換\n",
    "    plt.imshow(npimg)\n",
    "    if img.mode == 'L': # 画像が白黒の場合は表示を白黒モードにする\n",
    "        plt.gray()\n",
    "    plt.show()"
   ]
  },
  {
   "cell_type": "markdown",
   "metadata": {},
   "source": [
    "それでは，読み込んできた画像 \"pasa.png\" の画像を表示してみましょう．"
   ]
  },
  {
   "cell_type": "code",
   "execution_count": null,
   "metadata": {},
   "outputs": [],
   "source": [
    "myshow(img)"
   ]
  },
  {
   "cell_type": "markdown",
   "metadata": {},
   "source": [
    "PIL には様々な機能がありますが，まずは白黒に変換してみましょう．そのためには以下のようにします．"
   ]
  },
  {
   "cell_type": "code",
   "execution_count": null,
   "metadata": {},
   "outputs": [],
   "source": [
    "gray_img = img.convert(\"L\")\n",
    "myshow(gray_img)"
   ]
  },
  {
   "cell_type": "markdown",
   "metadata": {},
   "source": [
    "画像は左上が原点になっていて，数学で習ってきた座標とは y 方向が逆になっていることに注意してください．\n",
    "\n",
    "![](https://ogilab.kutc.kansai-u.ac.jp/downloads/complang/figs_kadai08/axis.png)\n",
    "\n",
    "\n",
    "## crop\n",
    "\n",
    "それでは今回は画像を切り取り(crop) する練習をしてみましょう．\n",
    "\n",
    "そのためには crop というメソッドを使います．crop には４つの数字を与えますが，\n",
    "\n",
    "```crop((x1,y1, x2,y2))```\n",
    "\n",
    "という形で切り取りたい四角の左上の座標 (x1,y1) と右下の座標 (x2, y2) を与えることによって切り取ることができます．"
   ]
  },
  {
   "cell_type": "code",
   "execution_count": null,
   "metadata": {},
   "outputs": [],
   "source": [
    "cim = img.crop((50,50,150,150))\n",
    "\n",
    "myshow(cim)"
   ]
  },
  {
   "cell_type": "markdown",
   "metadata": {},
   "source": [
    "### 練習6\n",
    "\n",
    "下の犬の画像について，犬の顔について，白黒にして顔部分を切り取って表示してください．\n"
   ]
  },
  {
   "cell_type": "code",
   "execution_count": null,
   "metadata": {},
   "outputs": [],
   "source": [
    "dogimg = Image.open(\"./dog.jpg\")\n",
    "myshow(dogimg)"
   ]
  },
  {
   "cell_type": "code",
   "execution_count": null,
   "metadata": {},
   "outputs": [],
   "source": [
    "## 白黒に変換\n",
    "\n",
    "dog_gray = XXXXXXXX\n",
    "\n",
    "## 切り取り\n",
    "\n",
    "dog_kao = XXXXXXXXXX\n",
    "\n",
    "##表示\n",
    "\n",
    "myshow(dog_kao)"
   ]
  },
  {
   "cell_type": "markdown",
   "metadata": {},
   "source": [
    "他のPILの様々な機能については，\"PIL python\" などで検索をかけるとたくさん出てきますが，例えば以下のようなページがあります．\n",
    "\n",
    "参考：[Qiita: PIL/Pillow チートシート](https://qiita.com/pashango2/items/145d858eff3c505c100a)"
   ]
  },
  {
   "cell_type": "markdown",
   "metadata": {},
   "source": [
    "## 課題提出"
   ]
  },
  {
   "cell_type": "markdown",
   "metadata": {},
   "source": [
    "名前："
   ]
  },
  {
   "cell_type": "markdown",
   "metadata": {},
   "source": [
    "学籍番号："
   ]
  },
  {
   "cell_type": "markdown",
   "metadata": {},
   "source": [
    "感想："
   ]
  },
  {
   "cell_type": "markdown",
   "metadata": {},
   "source": [
    "ファイルを保存したら，このファイルをファイルメニューの「.ipynbをダウンロード」からダウンロードし，関大LMSで提出してください．（課題を出す場所を間違えないようにしてください）"
   ]
  },
  {
   "cell_type": "code",
   "execution_count": null,
   "metadata": {},
   "outputs": [],
   "source": []
  }
 ],
 "metadata": {
  "anaconda-cloud": {},
  "kernelspec": {
   "display_name": "Python 3 (ipykernel)",
   "language": "python",
   "name": "python3"
  },
  "language_info": {
   "codemirror_mode": {
    "name": "ipython",
    "version": 3
   },
   "file_extension": ".py",
   "mimetype": "text/x-python",
   "name": "python",
   "nbconvert_exporter": "python",
   "pygments_lexer": "ipython3",
   "version": "3.11.4"
  }
 },
 "nbformat": 4,
 "nbformat_minor": 4
}
