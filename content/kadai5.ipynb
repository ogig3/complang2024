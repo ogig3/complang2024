{
 "cells": [
  {
   "cell_type": "markdown",
   "metadata": {
    "id": "Y8-EG-RJybBa"
   },
   "source": [
    "# コンピュータの言語2024：課題5\n",
    "\n",
    "文字列とリストとその応用"
   ]
  },
  {
   "cell_type": "markdown",
   "metadata": {
    "id": "_R88sNzLybBc"
   },
   "source": [
    "## 1. 文字列\n",
    "\n",
    "Python の文字列型データは，情報を調べたり操作したりするための便利な仕組み（関数とメソッド）があります．今回はそれについていくつか紹介します．関数とメソッドは同じような機能を持っていますが，データに対して与える形が異なります．\n",
    "* __関数__：```関数(データ)``` の形で，データを受け取って何かの処理をして，何かの値を返す\n",
    "* __メソッド__： ```データ.メソッド``` の形で，データに対して何かの処理をして，何らかの値を返す"
   ]
  },
  {
   "cell_type": "code",
   "execution_count": 1,
   "metadata": {
    "id": "cSFvN1y5ybBc"
   },
   "outputs": [
    {
     "name": "stdout",
     "output_type": "stream",
     "text": [
      "私の部屋はとても広い\n"
     ]
    }
   ],
   "source": [
    "# 例となる文字\n",
    "a = \"私の部屋はとても広い\"\n",
    "print(a)"
   ]
  },
  {
   "cell_type": "markdown",
   "metadata": {
    "id": "cdZHLkJSybBd",
    "tags": []
   },
   "source": [
    "### 1.1 文字列の長さ\n",
    "\n",
    "* ```len(文字列)``` は文字列の長さを返します．"
   ]
  },
  {
   "cell_type": "code",
   "execution_count": 2,
   "metadata": {
    "id": "xh2LIw6nybBe"
   },
   "outputs": [
    {
     "data": {
      "text/plain": [
       "10"
      ]
     },
     "execution_count": 2,
     "metadata": {},
     "output_type": "execute_result"
    }
   ],
   "source": [
    "len(a)"
   ]
  },
  {
   "cell_type": "markdown",
   "metadata": {
    "id": "bAzyJIBAybBe"
   },
   "source": [
    "### 1.2 置き換え\n",
    "* ```replace(A,B)``` は文字列Aを文字列Bに置き換えます"
   ]
  },
  {
   "cell_type": "code",
   "execution_count": 3,
   "metadata": {
    "id": "dQMKlGaWybBe"
   },
   "outputs": [
    {
     "name": "stdout",
     "output_type": "stream",
     "text": [
      "あなたの部屋はとても広い\n"
     ]
    }
   ],
   "source": [
    "b = a.replace(\"私\",\"あなた\")\n",
    "print(b)"
   ]
  },
  {
   "cell_type": "code",
   "execution_count": 4,
   "metadata": {
    "id": "9bPibYvmybBf"
   },
   "outputs": [
    {
     "name": "stdout",
     "output_type": "stream",
     "text": [
      "私の部屋はとても狭い\n"
     ]
    }
   ],
   "source": [
    "c = a.replace(\"広い\",\"狭い\")\n",
    "print(c)"
   ]
  },
  {
   "cell_type": "markdown",
   "metadata": {
    "id": "5F7OnYl7ybBf"
   },
   "source": [
    "#### やってみよう\n",
    "文字列 \"課題1.txt\" を \"kadai.ipynb\" に置き換えてみてください．"
   ]
  },
  {
   "cell_type": "code",
   "execution_count": null,
   "metadata": {
    "id": "HOFBbm8zybBf"
   },
   "outputs": [],
   "source": [
    "filename = \"課題1.txt\"\n",
    "filename_b = filename.XXXXXXXX\n",
    "print(filename_b)"
   ]
  },
  {
   "cell_type": "markdown",
   "metadata": {
    "id": "iULUtBwUybBg"
   },
   "source": [
    "### 1.3 文字数のカウント"
   ]
  },
  {
   "cell_type": "code",
   "execution_count": 5,
   "metadata": {
    "id": "vCN0XPnuybBg"
   },
   "outputs": [
    {
     "name": "stdout",
     "output_type": "stream",
     "text": [
      "3\n",
      "6\n"
     ]
    }
   ],
   "source": [
    "d = \"あの犬，ちゃうちゃうちゃう？\"         # あの犬はチャウチャウという犬種の犬でしょうか？\n",
    "e = \"ちゃうちゃう，ちゃうちゃうちゃうんちゃう．\" # いいえ，違います．そのいぬはチャウチャウではないと思います．\n",
    "print(d.count(\"ちゃう\"))\n",
    "print(e.count(\"ちゃう\"))"
   ]
  },
  {
   "cell_type": "markdown",
   "metadata": {
    "id": "Is-aI9ETybBg"
   },
   "source": [
    "### 1.4 文字の位置\n",
    "\n",
    "文字列は最初の文字を０番とする番号がついています． ```index``` は，文字列のある場所を教えてくれます．\n",
    "\n",
    "|0|1|2|3|4|5|6|7|8|9|10|11|12|13|14|15|\n",
    "|--|--|--|--|--|--|--|--|--|--|--|--|--|--|--|--|\n",
    "|人|生|は|楽|で|は|な|い|。|そ|こ|が|面|白|い|。|"
   ]
  },
  {
   "cell_type": "code",
   "execution_count": 6,
   "metadata": {
    "id": "ouExO8RCybBh"
   },
   "outputs": [
    {
     "data": {
      "text/plain": [
       "3"
      ]
     },
     "execution_count": 6,
     "metadata": {},
     "output_type": "execute_result"
    }
   ],
   "source": [
    "f = \"人生は楽ではない。そこが面白い。\"\n",
    "f.index(\"楽\")"
   ]
  },
  {
   "cell_type": "markdown",
   "metadata": {
    "id": "d-UmVEPlybBh"
   },
   "source": [
    "ある番号にある文字の場所は ```[番号]``` で参照することができます．"
   ]
  },
  {
   "cell_type": "code",
   "execution_count": 7,
   "metadata": {
    "id": "c2BePEBdybBh"
   },
   "outputs": [
    {
     "data": {
      "text/plain": [
       "'面'"
      ]
     },
     "execution_count": 7,
     "metadata": {},
     "output_type": "execute_result"
    }
   ],
   "source": [
    "f[12]"
   ]
  },
  {
   "cell_type": "markdown",
   "metadata": {
    "id": "dPLS2NnCybBi"
   },
   "source": [
    "この番号を利用して文字列の抜き出しをすることができます．\n",
    "\n",
    "```\n",
    "文字列[番号A:番号B]\n",
    "```\n",
    "とすると，文字列のA番から___B-1___ 番までの文字列を取り出すことができます．"
   ]
  },
  {
   "cell_type": "code",
   "execution_count": 8,
   "metadata": {
    "id": "N4yBAFMEybBi"
   },
   "outputs": [
    {
     "data": {
      "text/plain": [
       "'楽ではない'"
      ]
     },
     "execution_count": 8,
     "metadata": {},
     "output_type": "execute_result"
    }
   ],
   "source": [
    "f[3:8]"
   ]
  },
  {
   "cell_type": "markdown",
   "metadata": {
    "id": "gtlDdBiqybBj"
   },
   "source": [
    "#### やってみよう\n",
    "文字列 f から「面白い」の文字列を取り出す命令を書いてください．"
   ]
  },
  {
   "cell_type": "markdown",
   "metadata": {
    "id": "bBEIePaRybBj"
   },
   "source": []
  },
  {
   "cell_type": "markdown",
   "metadata": {
    "id": "rfc6E8bSybBj"
   },
   "source": [
    "### 1.5 文字列の比較\n",
    "\n",
    "文字列が同じかどうかは ```==``` で判定することができます．"
   ]
  },
  {
   "cell_type": "code",
   "execution_count": 9,
   "metadata": {
    "id": "TnYZxNpfybBj"
   },
   "outputs": [
    {
     "name": "stdout",
     "output_type": "stream",
     "text": [
      "False\n",
      "True\n"
     ]
    }
   ],
   "source": [
    "x = \"apple\"\n",
    "y = \"orange\"\n",
    "z = \"apple\"\n",
    "\n",
    "print(x==y)\n",
    "print(x==z)"
   ]
  },
  {
   "cell_type": "markdown",
   "metadata": {
    "id": "52ZDzqC5ybBk"
   },
   "source": [
    "文字列が含まれているかどうかは， ```in``` を使って調べることができます．"
   ]
  },
  {
   "cell_type": "code",
   "execution_count": 10,
   "metadata": {
    "id": "-ZplrpeDybBk"
   },
   "outputs": [
    {
     "name": "stdout",
     "output_type": "stream",
     "text": [
      "True\n",
      "False\n"
     ]
    }
   ],
   "source": [
    "x = '難しい'\n",
    "y = '易しい'\n",
    "answer = \"この問題はとても難しい\"\n",
    "\n",
    "print(x in answer)\n",
    "print(y in answer)"
   ]
  },
  {
   "cell_type": "markdown",
   "metadata": {
    "id": "RJ34F5xBybBk"
   },
   "source": [
    "## 練習1\n",
    "\n",
    "\"反省をしていると申し上げましたが、反省しているんです。ただ、これは私の問題だと思いますが、反省をしていると言いながら、反省をしている色が見えない。というご指摘は、私自身の問題だと反省をしております。（小泉進次郎）\" という文字列について，以下の命令をかいてください．"
   ]
  },
  {
   "cell_type": "code",
   "execution_count": null,
   "metadata": {
    "id": "INxSjcAmybBk"
   },
   "outputs": [],
   "source": [
    "p = \"反省をしていると申し上げましたが、反省しているんです。\\\n",
    "ただ、これは私の問題だと思いますが、反省をしていると言いながら、\\\n",
    "反省をしている色が見えない。というご指摘は、私自身の問題だと反省をしております。（小泉進次郎）\"\n",
    "\n",
    "# 文字数は全部で何文字？\n",
    "\n",
    "mojisu = XXXXXXXXXXXXX\n",
    "print(mojisu)\n",
    "\n",
    "# 「反省」は何回ある？\n",
    "\n",
    "num_hansei = XXXXXXXXXXXXX\n",
    "print(num_hansei)\n",
    "\n",
    "# 「私」を「あなた」に置き換えてください．\n",
    "\n",
    "okikae_p = XXXXXXXXXXXXX\n",
    "print(okikae_p)"
   ]
  },
  {
   "cell_type": "markdown",
   "metadata": {
    "id": "KclibyFxybBl"
   },
   "source": [
    "## 2. リスト\n",
    "\n",
    "これまで，「数値型（整数・浮動小数点数）」「文字列型」「真偽型」などの型を扱ってきましたが，これらの基本的なデータを書類棚のように一つの場所に納めて扱うデータ型に __リスト__ があります．リストは柔軟に多様なデータをひとまとめに扱うことができるため． Python プログラムの中で，非常に多くの場面で登場します．\n",
    "\n",
    "リストは ```[   ]``` に囲まれたもので定義され，その中に様々なものを入れることができます．以下では，リストに含まれる一つ一つのデータを __要素__ と呼んでいます．"
   ]
  },
  {
   "cell_type": "code",
   "execution_count": 11,
   "metadata": {
    "id": "uxxhaa5qybBl"
   },
   "outputs": [
    {
     "name": "stdout",
     "output_type": "stream",
     "text": [
      "['これ', 'あれ', 'それ', 1, True]\n"
     ]
    }
   ],
   "source": [
    "lisa = [\"これ\", \"あれ\", \"それ\", 1, True]\n",
    "\n",
    "print(lisa)"
   ]
  },
  {
   "cell_type": "markdown",
   "metadata": {
    "id": "7kjps3nOybBl"
   },
   "source": [
    "### 2.1 要素の数\n",
    "* 要素の数は ```len``` という命令で調べることができます．"
   ]
  },
  {
   "cell_type": "code",
   "execution_count": 12,
   "metadata": {
    "id": "lCobe7eDybBm"
   },
   "outputs": [
    {
     "data": {
      "text/plain": [
       "5"
      ]
     },
     "execution_count": 12,
     "metadata": {},
     "output_type": "execute_result"
    }
   ],
   "source": [
    "len(lisa) "
   ]
  },
  {
   "cell_type": "markdown",
   "metadata": {
    "id": "sVQ7N2u8ybBm"
   },
   "source": [
    "### 2.2 要素の位置と参照\n",
    "* リストの要素は番号づけられており（０から始まります），```リスト[番号]``` で，その番号にある要素を参照することができ，```リスト.index(要素)``` で要素がある場所の番号を調べることができます．\n",
    "\n",
    "* ```lisa = [\"これ\", \"あれ\", \"それ\", 1, \"True\"]``` の場合の番号と要素の対応関係は以下のようになっています．\n",
    "\n",
    "|0|1|2|3|4|\n",
    "|--|--|--|--|--|\n",
    "|\"これ\"| \"あれ\"| \"それ\"| 1| \"True\"|"
   ]
  },
  {
   "cell_type": "code",
   "execution_count": 13,
   "metadata": {
    "id": "6llLAGH4ybBm"
   },
   "outputs": [
    {
     "data": {
      "text/plain": [
       "'あれ'"
      ]
     },
     "execution_count": 13,
     "metadata": {},
     "output_type": "execute_result"
    }
   ],
   "source": [
    "lisa[1]"
   ]
  },
  {
   "cell_type": "code",
   "execution_count": 14,
   "metadata": {
    "id": "lxgkkd19ybBm"
   },
   "outputs": [
    {
     "data": {
      "text/plain": [
       "0"
      ]
     },
     "execution_count": 14,
     "metadata": {},
     "output_type": "execute_result"
    }
   ],
   "source": [
    "lisa.index(\"これ\")"
   ]
  },
  {
   "cell_type": "markdown",
   "metadata": {
    "id": "FZ3QcJ-oybBm"
   },
   "source": [
    "### 2.3 要素の追加と削除\n",
    "* リストに要素を追加するには，```append``` というメソッドを利用し，削除するには ```pop``` という命令を使います．"
   ]
  },
  {
   "cell_type": "code",
   "execution_count": 15,
   "metadata": {
    "id": "J5VY-s_AybBn"
   },
   "outputs": [
    {
     "name": "stdout",
     "output_type": "stream",
     "text": [
      "['これ', 'あれ', 'それ', 'どこ']\n",
      "['これ', 'あれ', 'それ']\n"
     ]
    }
   ],
   "source": [
    "lisb = [\"これ\", \"あれ\", \"それ\"]\n",
    "\n",
    "# 追加\n",
    "lisb.append(\"どこ\")  # リストの最後に\"どこ\"をくっつけます．\n",
    "print(lisb)\n",
    "\n",
    "# 削除\n",
    "lisb.pop()          # リストの最後の要素を取り除きます\n",
    "print(lisb)"
   ]
  },
  {
   "cell_type": "markdown",
   "metadata": {
    "id": "CAldKI1HybBn"
   },
   "source": [
    "リストの要素を追加，削除する命令には他にも[たくさんあります](https://docs.python.org/ja/3/tutorial/datastructures.html#more-on-lists)が，最初は必要最低限だけ覚えておき，必要になれば，調べて使うようにすればよいでしょう．"
   ]
  },
  {
   "cell_type": "markdown",
   "metadata": {
    "id": "vhbYOTFCybBn"
   },
   "source": [
    "### 2.4 入れ替え\n",
    "\n",
    "* リストの番号で指定することによって，要素を入れ替えることができます．"
   ]
  },
  {
   "cell_type": "code",
   "execution_count": 16,
   "metadata": {
    "id": "JdzHs3tyybBn"
   },
   "outputs": [
    {
     "name": "stdout",
     "output_type": "stream",
     "text": [
      "[1, 3, 5, 7]\n"
     ]
    }
   ],
   "source": [
    "lisc = [1,3,9,7]\n",
    "lisc[2] = 5       # 2番の要素を 5 にする\n",
    "print(lisc)"
   ]
  },
  {
   "cell_type": "markdown",
   "metadata": {
    "id": "dSV9MlGLybBn"
   },
   "source": [
    "### 2.5 for と リスト\n",
    "\n",
    "リストに含まれる要素について，様々な処理をしたい場合， for を使ってそれぞれの要素にアクセスすることがよくあります．そのためには番号を使う方法がよく使われます．"
   ]
  },
  {
   "cell_type": "code",
   "execution_count": 18,
   "metadata": {
    "id": "ygf-CFnjybBo"
   },
   "outputs": [
    {
     "name": "stdout",
     "output_type": "stream",
     "text": [
      "apple\n",
      "orange\n",
      "banana\n"
     ]
    }
   ],
   "source": [
    "lisd = [\"apple\", \"orange\", \"banana\"]\n",
    "\n",
    "num = len(lisd)\n",
    "for i in range(num):\n",
    "    print(lisd[i])"
   ]
  },
  {
   "cell_type": "markdown",
   "metadata": {
    "id": "ixcVQ9Q6ybBo"
   },
   "source": [
    "別の方法として，```for``` 文の ```in``` にリストをおくと，リストの要素を一つずつ取り出すことができます．"
   ]
  },
  {
   "cell_type": "code",
   "execution_count": 21,
   "metadata": {
    "id": "2RZ0AUPpybBo"
   },
   "outputs": [
    {
     "name": "stdout",
     "output_type": "stream",
     "text": [
      "apple\n",
      "orange\n",
      "banana\n"
     ]
    }
   ],
   "source": [
    "lisd = [\"apple\", \"orange\", \"banana\"]\n",
    "\n",
    "for i in lisd:\n",
    "    print( i )"
   ]
  },
  {
   "cell_type": "markdown",
   "metadata": {
    "id": "86qdQCszybBo"
   },
   "source": [
    "この時， __i には要素そのものが入っている__ことに注意してください．"
   ]
  },
  {
   "cell_type": "markdown",
   "metadata": {
    "id": "EZ1FWpdOybBp"
   },
   "source": [
    "## 応用\n",
    "\n",
    "ここまでで，「基本的なデータ型」，「分岐・繰り返し」，「リスト」について学びましたが，これでも多様な仕事をさせることができます．\n",
    "今回はアンケート結果のデータ処理を例に練習してみましょう．"
   ]
  },
  {
   "cell_type": "markdown",
   "metadata": {
    "id": "1qgvZEHjybBp"
   },
   "source": [
    "### 練習2\n",
    "\n",
    "ある問題に対するアンケートでの感想が，以下のようにリストに入っています．この問題を「難しい」と感じた人を感想の中に '難' の字が含まれているかどうかで判断してみましょう．感想の中で難しいと感じた人の数と，その全体に対する割合を求めるプログラムを完成させてください．\n",
    "\n",
    "```python\n",
    "answer = ['この問題は難しかった', '超楽勝', 'たいへん難しかった', 'まだまだいける', 'くそ難しい', '難しすぎて死にたい', 'この問題を作った人をXしたい']\n",
    "```"
   ]
  },
  {
   "cell_type": "code",
   "execution_count": null,
   "metadata": {
    "id": "OqOAGX_tybBp"
   },
   "outputs": [],
   "source": [
    "answer = ['この問題は難しかった', '超楽勝', 'たいへん難しかった', 'まだまだいける', 'くそ難しい', '難しすぎて死にたい', 'この問題を作った人をXしたい']\n",
    "\n",
    "count = 0\n",
    "for i in answer:\n",
    "    if XXXXXXXXXXXXXXXX:\n",
    "        count = XXXXXXXXXX\n",
    "\n",
    "print(count)\n",
    "\n",
    "muzu_rate = count/XXXXXXXXXXXXX\n",
    "print(f'難しいと感じた人は全体の{muzu_rate}%です')"
   ]
  },
  {
   "cell_type": "markdown",
   "metadata": {
    "id": "Gef7dOvrybBp"
   },
   "source": [
    "### 練習3\n",
    "\n",
    "練習２の感想のリストから，「難」という字を含まない感想を抽出して，新しいリストを作成してください．"
   ]
  },
  {
   "cell_type": "code",
   "execution_count": null,
   "metadata": {
    "id": "FZbX0amKybBp"
   },
   "outputs": [],
   "source": [
    "answer = ['この問題は難しかった', '超楽勝', 'たいへん難しかった', 'まだまだいける', 'くそ難しい', '難しすぎて死にたい', 'この問題を作った人をXしたい']\n",
    "\n",
    "no_muzu = []   # 空のリストを作成しておく\n",
    "\n",
    "for i in answer:\n",
    "    if XXXXXXXXXXXXXXXX:\n",
    "        no_muzu.append(XXXXXXXXX)\n",
    "\n",
    "print(no_muzu)"
   ]
  },
  {
   "cell_type": "markdown",
   "metadata": {
    "id": "4MZgsR54ybBp"
   },
   "source": [
    "### 練習4\n",
    "\n",
    "ある問題に対するアンケートで，その問題の難しさを１０段階評価をしてもらった結果が，以下のようにリストに入っています．この問題の難しさに対する平均値を求めてください．\n",
    "\n",
    "```\n",
    "answer = [10, 4, 9, 9, 3, 5, 9, 9, 7, 8, 5, 4, 10, 2, 6, 7, 9, 0, 10, 3, 10, 3, 8, 10, 9, 5, 5, 9, 5, 8]\n",
    "```"
   ]
  },
  {
   "cell_type": "code",
   "execution_count": null,
   "metadata": {
    "id": "sZn6hZJOybBq"
   },
   "outputs": [],
   "source": [
    "answer = [10, 4, 9, 9, 3, 5, 9, 9, 7, 8, 5, 4, 10, 2, 6, 7, 9, 0, 10, 3, 10, 3, 8, 10, 9, 5, 5, 9, 5, 8]\n",
    "\n",
    "sum_all = 0\n",
    "for i in answer:\n",
    "    sum_all = XXXXXXXXXXXXXX\n",
    "\n",
    "heikin = XXXXXXXXXXXX\n",
    "print(f'難しさの平均は{heikin}です')"
   ]
  },
  {
   "cell_type": "markdown",
   "metadata": {
    "id": "1vFGBZ77ybBq"
   },
   "source": [
    "ちなみに，リストに含まれる数の和については， ```for``` を使わなくても，```sum(リスト)``` という組込みの関数によっても求めることができます．"
   ]
  },
  {
   "cell_type": "code",
   "execution_count": 22,
   "metadata": {
    "id": "bqsat5UqybBq"
   },
   "outputs": [
    {
     "name": "stdout",
     "output_type": "stream",
     "text": [
      "6\n"
     ]
    }
   ],
   "source": [
    "lis = [1,2,3]\n",
    "sum_all = sum(lis)\n",
    "print(sum_all)"
   ]
  },
  {
   "cell_type": "markdown",
   "metadata": {
    "id": "jZ6jhFzEybBq"
   },
   "source": [
    "この```sum```関数を使うと上のプログラムはどのように書くことができるでしょうか？"
   ]
  },
  {
   "cell_type": "code",
   "execution_count": null,
   "metadata": {
    "id": "RLu_kTCAybBq"
   },
   "outputs": [],
   "source": [
    "XXXXXXXXXXXXXXX\n",
    "\n"
   ]
  },
  {
   "cell_type": "markdown",
   "metadata": {
    "id": "gJx9FHSjybBq"
   },
   "source": [
    "### 練習5\n",
    "\n",
    "クジのデータが200個あります．このクジの当たる確率を求めてください．"
   ]
  },
  {
   "cell_type": "code",
   "execution_count": null,
   "metadata": {
    "id": "Corib5M4ybBr"
   },
   "outputs": [],
   "source": [
    "kuji = ['はずれ', 'はずれ', 'はずれ', 'はずれ', 'はずれ', 'はずれ', 'はずれ', 'はずれ', 'はずれ', 'はずれ', 'はずれ', 'はずれ', 'はずれ', 'はずれ', 'はずれ', 'あたり', 'はずれ', 'はずれ', 'あたり', 'はずれ', 'はずれ', 'はずれ', 'はずれ', 'はずれ', 'はずれ', 'はずれ', 'はずれ', 'あたり', 'はずれ', 'はずれ', 'はずれ', 'はずれ', 'はずれ', 'はずれ', 'はずれ', 'はずれ', 'はずれ', 'はずれ', 'はずれ', 'はずれ', 'はずれ', 'はずれ', 'はずれ', 'はずれ', 'はずれ', 'はずれ', 'はずれ', 'はずれ', 'はずれ', 'はずれ', 'はずれ', 'はずれ', 'はずれ', 'はずれ', 'あたり', 'はずれ', 'はずれ', 'あたり', 'はずれ', 'はずれ', 'はずれ', 'はずれ', 'はずれ', 'はずれ', 'はずれ', 'はずれ', 'はずれ', 'はずれ', 'はずれ', 'はずれ', 'はずれ', 'はずれ', 'はずれ', 'はずれ', 'はずれ', 'はずれ', 'あたり', 'はずれ', 'はずれ', 'あたり', 'はずれ', 'あたり', 'はずれ', 'はずれ', 'はずれ', 'あたり', 'はずれ', 'はずれ', 'はずれ', 'はずれ', 'はずれ', 'はずれ', 'はずれ', 'あたり', 'はずれ', 'はずれ', 'はずれ', 'はずれ', 'はずれ', 'はずれ', 'はずれ', 'はずれ', 'はずれ', 'はずれ', 'はずれ', 'はずれ', 'はずれ', 'はずれ', 'はずれ', 'はずれ', 'はずれ', 'はずれ', 'はずれ', 'はずれ', 'はずれ', 'あたり', 'あたり', 'はずれ', 'はずれ', 'はずれ', 'はずれ', 'はずれ', 'はずれ', 'はずれ', 'はずれ', 'はずれ', 'はずれ', 'あたり', 'はずれ', 'はずれ', 'はずれ', 'はずれ', 'はずれ', 'はずれ', 'はずれ', 'あたり', 'はずれ', 'はずれ', 'あたり', 'はずれ', 'はずれ', 'はずれ', 'あたり', 'はずれ', 'はずれ', 'はずれ', 'はずれ', 'あたり', 'はずれ', 'あたり', 'はずれ', 'はずれ', 'はずれ', 'はずれ', 'はずれ', 'はずれ', 'はずれ', 'はずれ', 'はずれ', 'はずれ', 'はずれ', 'はずれ', 'はずれ', 'はずれ', 'はずれ', 'はずれ', 'はずれ', 'はずれ', 'はずれ', 'はずれ', 'はずれ', 'はずれ', 'はずれ', 'あたり', 'はずれ', 'はずれ', 'はずれ', 'あたり', 'あたり', 'はずれ', 'はずれ', 'はずれ', 'はずれ', 'はずれ', 'はずれ', 'はずれ', 'はずれ', 'はずれ', 'はずれ', 'はずれ', 'はずれ', 'はずれ', 'はずれ', 'はずれ', 'はずれ', 'はずれ', 'はずれ', 'あたり', 'はずれ', 'はずれ']\n",
    "\n",
    "p = XXXXXXXXX\n",
    "\n",
    "print(f'このクジの当たる確率は{p}です．')"
   ]
  },
  {
   "cell_type": "markdown",
   "metadata": {
    "id": "uYy6w5sjybBr"
   },
   "source": [
    "### 練習6（挑戦）\n",
    "\n",
    "データの性質を表す指標として平均値は代表的なものですが，その他に重要な指標として__分散(variance)__があります．平均の次は，分散を求めてみることにしましょう．\n",
    "分散は以下の式で定義されます．\n",
    "\n",
    "$$\n",
    "v = \\frac{1}{n} \\sum_{i=1}^{n} (x_i - \\bar{x})^2\n",
    "$$\n",
    "\n",
    "ここで， $n$ はデータの数，$x_i$ は$i$番目のデータ，$\\bar{x}$ はデータの平均値です． $\\sum$ は初めてみる人もいるかもしれませんが，単に数字の列の和を計算することを短く表現するための記号と思ってください．\n",
    "\n",
    "$$\n",
    "\\sum_{i=1}^{n} a_i = a_1 + a_2 + a_3 + ... + a_n\n",
    "$$\n",
    "\n",
    "ということなので，分散の式も $\\sum$ を使わずにばらしてしまえば，\n",
    "\n",
    "$$\n",
    "v = \\frac{1}{n} \\{(x_1 - \\bar{x})^2 + (x_2 - \\bar{x})^2 + (x_3 - \\bar{x})^2 + ... + (x_n - \\bar{x})^2\\}\n",
    "$$\n",
    "\n",
    "ということです．この足し算の中の各項は，例えば，３番の場合，以下のように書くことができます．"
   ]
  },
  {
   "cell_type": "code",
   "execution_count": null,
   "metadata": {},
   "outputs": [],
   "source": []
  },
  {
   "cell_type": "markdown",
   "metadata": {
    "id": "FQaRHsjdybBr"
   },
   "source": [
    "i = 3\n",
    "(answer[i] - heikin)**2 "
   ]
  },
  {
   "cell_type": "markdown",
   "metadata": {
    "id": "2zjq97S-ybBr"
   },
   "source": [
    "各要素の値が平均からどれくらい離れているのか，を差をとって二乗することによって評価しているということですね．（２乗は ```**2``` で計算できることを覚えていますか？）\n",
    "\n",
    "各データの値の平均からの離れ具合について和をとって，その平均を取るために個数で割ったものが分散ですから，プログラムは for を使って以下のように書けます．"
   ]
  },
  {
   "cell_type": "code",
   "execution_count": null,
   "metadata": {
    "id": "wkM3R-6yybBr"
   },
   "outputs": [],
   "source": [
    "answer = [10, 4, 9, 9, 3, 5, 9, 9, 7, 8, 5, 4, 10, 2, 6, 7, 9, 0, 10, 3, 10, 3, 8, 10, 9, 5, 5, 9, 5, 8]\n",
    "\n",
    "sum_all = 0\n",
    "data_num = len(answer)\n",
    "for i in range(data_num):\n",
    "    sum_all = sum_all + XXXXXXXXXXX\n",
    "    \n",
    "variance = XXXXXXXXXXX\n",
    "print(f'分散は{variance}です')"
   ]
  },
  {
   "cell_type": "markdown",
   "metadata": {
    "id": "tzUR2NMYybBr"
   },
   "source": [
    "## 課題提出"
   ]
  },
  {
   "cell_type": "markdown",
   "metadata": {
    "id": "qr5eU01oybBs"
   },
   "source": [
    "名前："
   ]
  },
  {
   "cell_type": "markdown",
   "metadata": {
    "id": "Km2FkAYsybBs"
   },
   "source": [
    "学籍番号:"
   ]
  },
  {
   "cell_type": "markdown",
   "metadata": {
    "id": "gfLYLaxeybBs"
   },
   "source": [
    "感想："
   ]
  },
  {
   "cell_type": "markdown",
   "metadata": {
    "id": "sOLrFeyOybBs"
   },
   "source": [
    "ファイルを保存したら，このファイルをファイルメニューの「.ipynbをダウンロード」からダウンロードし，関大LMSで提出してください．"
   ]
  }
 ],
 "metadata": {
  "colab": {
   "provenance": []
  },
  "kernelspec": {
   "display_name": "Python 3 (ipykernel)",
   "language": "python",
   "name": "python3"
  },
  "language_info": {
   "codemirror_mode": {
    "name": "ipython",
    "version": 3
   },
   "file_extension": ".py",
   "mimetype": "text/x-python",
   "name": "python",
   "nbconvert_exporter": "python",
   "pygments_lexer": "ipython3",
   "version": "3.11.4"
  }
 },
 "nbformat": 4,
 "nbformat_minor": 4
}
