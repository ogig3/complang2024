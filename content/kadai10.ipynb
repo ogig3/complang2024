{
 "cells": [
  {
   "cell_type": "markdown",
   "metadata": {},
   "source": [
    "# コンピュータの言語2024：課題10\n",
    "\n",
    "第10回の授業では探索アルゴリズムについて学習しました．\n",
    "\n",
    "前回紹介したリストについての様々な便利な道具の一つに index という命令があります．これを使えば，すぐに場所を答えてくれます．"
   ]
  },
  {
   "cell_type": "code",
   "execution_count": null,
   "metadata": {},
   "outputs": [],
   "source": [
    "lis = [3,1,6,4,8,10]\n",
    "lis.index(4)    # 4 の場所は？"
   ]
  },
  {
   "cell_type": "markdown",
   "metadata": {},
   "source": [
    "ですが，今回は逐次探索，二分探索のそれぞれを python で実装してみます．\n",
    "そして処理にかかる時間を計測して比較してみましょう．"
   ]
  },
  {
   "cell_type": "markdown",
   "metadata": {},
   "source": [
    "逐次探索のフローチャートは以下のようになることを学びました．\n",
    "\n",
    "![](https://ogilab.kutc.kansai-u.ac.jp/downloads/complang/figs_kadai10/kadai10_01.png)\n",
    "\n",
    "見れない場合は以下を見てください．\n",
    "https://www.dropbox.com/s/kvhxyfutmx7d1bf/kadai10_01.png?dl=0\n",
    "\n",
    "これをそのまま python で書いてみると，以下のようになります．（ ```len(リスト)``` はリストに含まれる要素の数を返してくれる関数でしたね．"
   ]
  },
  {
   "cell_type": "code",
   "execution_count": null,
   "metadata": {},
   "outputs": [],
   "source": [
    "data = [3,1,6,4,8,10]\n",
    "\n",
    "x = 4\n",
    "size = len(data)\n",
    "\n",
    "for i in range(xxxxxxx):\n",
    "    if yyyyyyyyy:\n",
    "        print(\"探索成功！場所は\", i)\n",
    "        break"
   ]
  },
  {
   "cell_type": "markdown",
   "metadata": {},
   "source": [
    "## 練習1\n",
    "\n",
    "上記のプログラムの xxxxxxxx, yyyyyyyyy に適切なものをいれてプログラムを完成させてください．"
   ]
  },
  {
   "cell_type": "markdown",
   "metadata": {},
   "source": [
    "## 逐次探索をする関数\n",
    "\n",
    "では，これを関数化してみましょう．\n",
    "関数は， __リスト__ と __探すべき値__ を受け取り，見つかったらその場所の番号（添字）を，見つからなかったら ```-1``` を返すようにしましょう．（プログラムでは失敗として ```-1``` はよく使われます）"
   ]
  },
  {
   "cell_type": "code",
   "execution_count": null,
   "metadata": {},
   "outputs": [],
   "source": [
    "def search_simple( data, value):\n",
    "    size = len(data)\n",
    "    for i in range(xxxxxx):\n",
    "        if yyyyyyyyyyyy:\n",
    "            return i\n",
    "    return -1\n",
    "\n",
    "data = [3,1,6,4,8,10]\n",
    "\n",
    "place1 = search_simple(data, 4)\n",
    "place2 = search_simple(data, 5)\n",
    "\n",
    "print( f\"4のある場所は {place1}\" )\n",
    "print( f\"5のある場所は {place2}\" )"
   ]
  },
  {
   "cell_type": "markdown",
   "metadata": {},
   "source": [
    "## 二分探索\n",
    "\n",
    "では次に，より効率的な二分探索を実装してみましょう．\n",
    "二分探索のフローチャートは以下のようになっていました．\n",
    "\n",
    "![](https://ogilab.kutc.kansai-u.ac.jp/downloads/complang/figs_kadai10/kadai10_02.png)\n",
    "\n",
    "図が見れない場合は以下を見てください．\n",
    "\n",
    "https://www.dropbox.com/s/4fsdb0q29x0kmld/kadai10_02.png?dl=0\n"
   ]
  },
  {
   "cell_type": "markdown",
   "metadata": {},
   "source": [
    "## 課題2\n",
    "\n",
    "下のプログラムは上のフローチャートを python のプログラムで書いたものです． ###(1)###, ###(2)###, ###(3)### に適切なものを入れてプログラムを完成させてください．"
   ]
  },
  {
   "cell_type": "code",
   "execution_count": null,
   "metadata": {},
   "outputs": [],
   "source": [
    "data = [1,3,4,6,8,10]\n",
    "\n",
    "x = 4\n",
    "size = len(data)\n",
    "\n",
    "L = 0\n",
    "H = size-1\n",
    "\n",
    "while ###(1)###:\n",
    "    M=(L+H)//2     # // は割ったときの商を整数で返します\n",
    "\n",
    "    if x<data[M]:\n",
    "        ###(2)###\n",
    "    else:\n",
    "        if x>data[M]:\n",
    "            ###(3)###\n",
    "        else:\n",
    "            print(\"探索成功\")\n",
    "            break   # whileループを抜ける\n"
   ]
  },
  {
   "cell_type": "markdown",
   "metadata": {},
   "source": [
    "## 二分探索をする関数\n",
    "\n",
    "二分探索も関数にしておきましょう．```if``` のところが少し煩雑ですので，```elif``` (else if その他，もし〜なら）を使って並べるようにしましょう．\n"
   ]
  },
  {
   "cell_type": "code",
   "execution_count": null,
   "metadata": {},
   "outputs": [],
   "source": [
    "def search_binary( data, value):\n",
    "    size = len(data)\n",
    "\n",
    "    L = 0\n",
    "    H = size-1\n",
    "\n",
    "    while ###(1)###:\n",
    "        M=(L+H)//2     # // は割ったときの商を整数で返します\n",
    "\n",
    "        if value<data[M:\n",
    "            ###(2)###\n",
    "        elif value>data[M]:\n",
    "            ###(3)###\n",
    "        else:\n",
    "            return M\n",
    "    \n",
    "    return -1\n",
    "\n",
    "data = [1,3,4,6,8,10]\n",
    "\n",
    "place1 = search_binary(data, 4)\n",
    "place2 = search_binary(data, 5)\n",
    "\n",
    "print(f\"4 のある場所は {place1}\")\n",
    "print(f\"5 のある場所は {place2}\")"
   ]
  },
  {
   "cell_type": "markdown",
   "metadata": {},
   "source": [
    "## 処理時間の計測\n",
    "\n",
    "コンピュータは時間を覚えていますが，その時間は我々が使う 2020年12月12日のようなものではなく， [Unix時間](http://ja.wikipedia.org/wiki/UNIX時間) というもので記録しています．Unix時間とは1970年1月1日からの経過時間です．python では ```time.time()``` という関数でその数値を知ることができます．"
   ]
  },
  {
   "cell_type": "code",
   "execution_count": null,
   "metadata": {},
   "outputs": [],
   "source": [
    "import time  # time というライブラリを読み込む\n",
    "\n",
    "time.time()"
   ]
  },
  {
   "cell_type": "markdown",
   "metadata": {},
   "source": [
    "非常に大きな数値ですね．この Unix時間を記録しているデータ型の限界によって [2038年問題](http://ja.wikipedia.org/wiki/2038年問題) が起きるのではないかと懸念されています．今から17年後，あなた方が 17+18=35歳の働き盛りのころの話ですね．\n",
    "\n",
    "さて，この \"time.time()\" の関数を使って，動作時間を計測することができます．計測したい処理の前後に時間を計測して，その差をとれば，処理にかかった時間がわかります．\n",
    "\n",
    "例えば，1000000回足し算をする処理にかかる時間の計測は以下のようにすることができます．"
   ]
  },
  {
   "cell_type": "code",
   "execution_count": null,
   "metadata": {},
   "outputs": [],
   "source": [
    "import time\n",
    "\n",
    "t1 = time.time()        # 処理前の時間を記録\n",
    "\n",
    "######### 処理 ##############\n",
    "x = 0\n",
    "for i in range(1000000):   # 1000000回の足し算\n",
    "  x = x+1\n",
    "############################\n",
    "\n",
    "t2 = time.time()        # 処理後の時間を記録\n",
    "\n",
    "dt = t2-t1\n",
    "\n",
    "print(f\"かかった時間は{dt}秒\")     # 差を出力\n"
   ]
  },
  {
   "cell_type": "markdown",
   "metadata": {},
   "source": [
    "## 逐次探索の処理の計測\n",
    "\n",
    "さて，それではまず逐次探索で計測してみましょう．\n",
    "以下にそのプログラムを示します．"
   ]
  },
  {
   "cell_type": "code",
   "execution_count": null,
   "metadata": {},
   "outputs": [],
   "source": [
    "import time\n",
    "import random\n",
    "\n",
    "##################################\n",
    "# 1. テストデータの生成\n",
    "##################################\n",
    "x = []   # 空のリスト x を用意\n",
    "for i in range(10000):\n",
    "  p = random.randint(0,1000000)  #0~100000 の間の乱数を一つ生成\n",
    "  if p not in x:      #もし x の中に生成した乱数がなかったら\n",
    "    x.append(p)       # x に加える\n",
    "x.sort()              # x を昇順にソートする\n",
    "\n",
    "##################################\n",
    "# 2. 探索する関数の定義\n",
    "##################################\n",
    "\n",
    "def search_simple( data, value):\n",
    "    xxxxxxxxxxxxxxxx\n",
    "    xxxxxxxxxxxxxxxx\n",
    "    xxxxxxxxxxxxxxxx\n",
    "    xxxxxxxxxxxxxxxx\n",
    "    xxxxxxxxxxxxxxxx\n",
    "\n",
    "##########################\n",
    "# 3. 探索時間の計測\n",
    "##########################\n",
    "\n",
    "t1 = time.time()           # 処理前の時間を記録\n",
    "search_simple(x, x[900])   # 900番にある数字を探させる\n",
    "t2 = time.time()           # 処理後の時間を記録\n",
    "\n",
    "dt = t2-t1\n",
    "print(f\"かかった時間は{dt}秒\") # 差を出力\n"
   ]
  },
  {
   "cell_type": "markdown",
   "metadata": {},
   "source": [
    "プログラムは３つの部分からなります．\n",
    "\n",
    "1. テストするためのリストデータの生成\n",
    "2. 関数の定義\n",
    "3. 探索時間の計測\n",
    "\n",
    "このうちの１は理解しなくても良いですが，重複しないように10000個のランダムなデータのリストを生成し，それを昇順に並べ替え(sort) しています．\n",
    "2 は使う関数の定義です．\n",
    "3 は上で説明した処理時間を計測する部分です．\n",
    "これで処理にかかった時間を計測することができます"
   ]
  },
  {
   "cell_type": "markdown",
   "metadata": {},
   "source": [
    "## 練習3\n",
    "\n",
    "上記のプログラムの search_simple の部分を完成させ，プログラムの実行結果が表示されるようにしてください．"
   ]
  },
  {
   "cell_type": "markdown",
   "metadata": {},
   "source": [
    "## 課題4(チャレンジ)\n",
    "\n",
    "下のプログラムを改変して，処理 ```search_binary(x, x[900])``` と ``` x.index(x[900])``` について，処理にかかる時間をミリ秒で答えてください．"
   ]
  },
  {
   "cell_type": "code",
   "execution_count": null,
   "metadata": {},
   "outputs": [],
   "source": [
    "import time\n",
    "import random\n",
    "\n",
    "##################################\n",
    "# テストデータの生成（理解しなくてもよいです）\n",
    "##################################\n",
    "x = []   # 空のリスト x を用意\n",
    "for i in range(10000):\n",
    "  p = random.randint(0,1000000)  #0~100000 の間の乱数を一つ生成\n",
    "  if p not in x:      #もし x の中に生成した乱数がなかったら\n",
    "    x.append(p)       # x に加える\n",
    "x.sort()              # x を昇順にソートする\n",
    "\n",
    "##################################\n",
    "# 探索する関数の定義\n",
    "##################################\n",
    "\n",
    "def search_binary( data, value):\n",
    "    xxxxxxxx\n",
    "    xxoxxoxx\n",
    "    xxxxxxxx\n",
    "    xxxxxxxx\n",
    "\n",
    "def search_simple( data, value):\n",
    "    xxxxxxxx\n",
    "    xxoxxoxx\n",
    "    xxxxxxxx\n",
    "    xxxxxxxx    \n",
    "    \n",
    "##########################\n",
    "# 探索時間の計測\n",
    "##########################\n",
    "\n",
    "t1 = time.time()           # 処理前の時間を記録\n",
    "search_simple(x, x[900])   # 900番にある数字を逐次探索で探させる\n",
    "t2 = time.time()           # 処理後の時間を記録\n",
    "\n",
    "dt1 = t2-t1                # 逐次探索でかかった時間\n",
    "dt1 = dt1*1000.0\n",
    "\n",
    "t1 = time.time()           # 処理前の時間を記録\n",
    "search_binary(x, x[900])   # 900番にある数字を二分探索で探させる\n",
    "t2 = time.time()           # 処理後の時間を記録\n",
    "\n",
    "dt2 = t2-t1                # 二分探索でかかった時間\n",
    "dt2 = dt2*1000.0\n",
    "\n",
    "print(f\"逐次探索にかかった時間は{dt1}ミリ秒\") # 出力\n",
    "print(f\"二分探索にかかった時間は{dt2}ミリ秒\") # 出力"
   ]
  },
  {
   "cell_type": "markdown",
   "metadata": {},
   "source": [
    "## 課題提出"
   ]
  },
  {
   "cell_type": "markdown",
   "metadata": {},
   "source": [
    "学籍番号："
   ]
  },
  {
   "cell_type": "markdown",
   "metadata": {},
   "source": [
    "名前："
   ]
  },
  {
   "cell_type": "markdown",
   "metadata": {},
   "source": [
    "感想："
   ]
  },
  {
   "cell_type": "markdown",
   "metadata": {},
   "source": [
    "ファイルを保存したら，このファイルをファイルメニューの「.ipynbをダウンロード」からダウンロードし，関大LMSで提出してください．（課題を出す場所を間違えないようにしてください）"
   ]
  }
 ],
 "metadata": {
  "kernelspec": {
   "display_name": "Python 3 (ipykernel)",
   "language": "python",
   "name": "python3"
  },
  "language_info": {
   "codemirror_mode": {
    "name": "ipython",
    "version": 3
   },
   "file_extension": ".py",
   "mimetype": "text/x-python",
   "name": "python",
   "nbconvert_exporter": "python",
   "pygments_lexer": "ipython3",
   "version": "3.11.5"
  }
 },
 "nbformat": 4,
 "nbformat_minor": 4
}
