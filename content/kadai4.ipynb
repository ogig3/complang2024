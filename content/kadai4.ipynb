{
 "cells": [
  {
   "cell_type": "markdown",
   "metadata": {
    "colab_type": "text",
    "id": "yKB9b383UC05"
   },
   "source": [
    "# コンピュータの言語 2024：課題４\n",
    "\n",
    "今回の授業では「フローチャートとアルゴリズム」ということで，順次構造，分岐，繰り返しについて学びました．これらを Python のプログラムで書いてみましょう．\n",
    "\n",
    "__「練習」以外のプログラムも必ず実行するようにしてください__"
   ]
  },
  {
   "cell_type": "markdown",
   "metadata": {
    "colab_type": "text",
    "id": "0i0UtnZDUC0-"
   },
   "source": [
    "## Python での順次構造\n",
    "\n",
    "通常，プログラムは上から下へと実行されますので，複数行のプログラムを書けば，そのまま順次構造となります．\n",
    "\n",
    "## 練習1\n",
    "\n",
    "![](https://ogilab.kutc.kansai-u.ac.jp/downloads/complang/figs_kadai04/kadai04_01.png)\n",
    "\n",
    "これは簡単ですね．\n",
    "```python\n",
    "a = 4\n",
    "b = 5\n",
    "print(a * b)\n",
    "```"
   ]
  },
  {
   "cell_type": "code",
   "execution_count": null,
   "metadata": {
    "check": 1,
    "colab": {},
    "colab_type": "code",
    "id": "9ttiDyprUC1C"
   },
   "outputs": [],
   "source": [
    "a = 4\n",
    "b = 5\n",
    "print(a * b)"
   ]
  },
  {
   "cell_type": "markdown",
   "metadata": {
    "colab_type": "text",
    "id": "b2pe5qhMUC1J"
   },
   "source": [
    "## ユーザーからの入力\n",
    "\n",
    "python でユーザーからの入力を受け付けるときには ```input()```　という関数を使います．\n",
    "\n",
    "```python\n",
    "a = input()\n",
    "print(a)\n",
    "```\n",
    "\n",
    "```input()``` はユーザーからの入力を __文字列(string)__ として受け付けて返します．この場合は a は文字として扱われ，```a*3``` のように書くと，その文字を３回繰り返したものが出力されます．"
   ]
  },
  {
   "cell_type": "code",
   "execution_count": null,
   "metadata": {
    "check": 2,
    "colab": {},
    "colab_type": "code",
    "id": "lqrv01LsUC1O"
   },
   "outputs": [],
   "source": [
    "a = input(\"数を入力してください\")\n",
    "print(a*3)"
   ]
  },
  {
   "cell_type": "markdown",
   "metadata": {
    "colab_type": "text",
    "id": "XlD5o1O8UC1S"
   },
   "source": [
    "例えば 3 を入力すると 9 にはならずに，３回繰り返しで表示されていますね（文字列*3 は３回繰り返して表示するという命令になります）．__整数__ として入力を受け付けるために，文字を __整数(integer)__ に変換する関数 ```int()``` を使います．"
   ]
  },
  {
   "cell_type": "code",
   "execution_count": null,
   "metadata": {
    "check": 3,
    "colab": {},
    "colab_type": "code",
    "id": "tlG16vosUC1T"
   },
   "outputs": [],
   "source": [
    "a = input(\"数を入力してください\")\n",
    "b = int(a)\n",
    "print(b*3)"
   ]
  },
  {
   "cell_type": "markdown",
   "metadata": {
    "colab_type": "text",
    "id": "OxKSdx60UC1Y"
   },
   "source": [
    "## 練習2\n",
    "\n",
    "それでは，```input()``` を使って問題をやってみましょう．\n",
    "\n",
    "![](https://ogilab.kutc.kansai-u.ac.jp/downloads/complang/figs_kadai04/kadai04_02.png)\n",
    "\n",
    "上記のフローチャートに合うように，下のXXXXXXXを適切なものにしてください．（この問題を最初に作成された時(2013年ごろ)には，消費税は5%でした）"
   ]
  },
  {
   "cell_type": "code",
   "execution_count": null,
   "metadata": {
    "check": 4,
    "colab": {},
    "colab_type": "code",
    "id": "aAssusbOUC1Z"
   },
   "outputs": [],
   "source": [
    "a = int(input(\"買い物の合計金額（税別）は？\"))\n",
    "\n",
    "b = a*0.8\n",
    "c = b*XXXXXXXXXXX\n",
    "\n",
    "print(f\"支払いは{c}円です\")        #float 型で表示\n",
    "print(f\"支払いは{int(c)}円です\")   #int 型で表示"
   ]
  },
  {
   "cell_type": "markdown",
   "metadata": {
    "colab_type": "text",
    "id": "dki2eD8DUC1h"
   },
   "source": [
    "最後の c の出力では，小数点以下は切り捨てるために，少数である c を整数にするために ```int()``` 関数を使ってcを整数に変換しています．"
   ]
  },
  {
   "cell_type": "markdown",
   "metadata": {
    "colab_type": "text",
    "id": "7-dOJ785UC1i"
   },
   "source": [
    "## 練習3\n",
    "8本足のタコと10本足のイカがいます．タコとイカの数を入力すると，頭の数と足の数を出力するプログラムを作成したいとします．プログラムを完成させるためには，以下のプログラムの __xx(1)xx__ と __xx(2)xx__ の部分に何を入れればよいでしょうか？プログラムを完成させて実行し，タコは２匹，イカは３匹として入力してください．"
   ]
  },
  {
   "cell_type": "code",
   "execution_count": null,
   "metadata": {
    "check": 5,
    "colab": {},
    "colab_type": "code",
    "id": "hwjF63h4UC1j"
   },
   "outputs": [],
   "source": [
    "tako = int(input(\"タコは何匹？\"))\n",
    "ika  = int(input(\"イカは何匹？\"))\n",
    "\n",
    "atama = xx(1)xx\n",
    "asi = xx(2)xx\n",
    "\n",
    "print(f\"頭の数は{atama}で，足の数は{asi}です．\")"
   ]
  },
  {
   "cell_type": "markdown",
   "metadata": {
    "colab_type": "text",
    "id": "l266gATtUC1l"
   },
   "source": [
    "## 練習4\n",
    "\n",
    "![](https://ogilab.kutc.kansai-u.ac.jp/downloads/complang/figs_kadai04/kadai04_03.png)\n",
    "\n",
    "上記のフローチャートと同じになるように，以下の XXXXXX 部分のプログラムを書いてください．"
   ]
  },
  {
   "cell_type": "code",
   "execution_count": null,
   "metadata": {
    "check": 6,
    "colab": {},
    "colab_type": "code",
    "id": "jM4F_LpIUC1l"
   },
   "outputs": [],
   "source": [
    "a = xxxxxxxxxxxx\n",
    "b = xxxxxxxxxxxx\n",
    "\n",
    "c = a\n",
    "a = b\n",
    "xxxxxxxxxxxxx\n",
    "\n",
    "print(f\"aの値は{a}です\")\n",
    "print(xxxxxxxxxxxx)"
   ]
  },
  {
   "cell_type": "markdown",
   "metadata": {
    "colab_type": "text",
    "id": "pv8EyURjUC1n"
   },
   "source": [
    "## 選択構造(分岐):if\n",
    "\n",
    "## if/else\n",
    "\n",
    "Python で選択構造を表現するには ```if``` と ```else``` を使います．\n",
    "\n",
    "```python\n",
    "if 条件:\n",
    "    実行1\n",
    "else:\n",
    "    実行2\n",
    "```\n",
    "\n",
    "のように書き，条件が ___True___ であれば ___実行1___ が実行され， ___False___ であれば ___実行2___ が実行されます．前回も注意しましたが， ___if で実行される範囲はスペース４つ分で字下げすることに注意してください．___ "
   ]
  },
  {
   "cell_type": "markdown",
   "metadata": {
    "colab_type": "text",
    "id": "Zr5RbI5fUC1o"
   },
   "source": [
    "## 練習5\n",
    "\n",
    "![](https://ogilab.kutc.kansai-u.ac.jp/downloads/complang/figs_kadai04/kadai04_04.png)\n",
    "\n",
    "上記の問題をプログラムした時，以下のプログラムのXXXXXXXに```\"卒業可能です．\"``` と ```\"卒業できません\"``` のどちらかを入れてください．"
   ]
  },
  {
   "cell_type": "code",
   "execution_count": null,
   "metadata": {
    "check": 7,
    "colab": {},
    "colab_type": "code",
    "id": "6ZkSBPMBUC1p"
   },
   "outputs": [],
   "source": [
    "a = int(input(\"講義科目の取得単位数は？\"))\n",
    "b = int(input(\"実習科目の取得単位数は？\"))\n",
    "c = int(input(\"在籍年数は?\"))\n",
    "\n",
    "if a>=50:\n",
    "    if b>=12:\n",
    "        if c<=8:\n",
    "            print(XXXXXXXXXXXXX)\n",
    "        else:\n",
    "            print(XXXXXXXXXXX)\n",
    "    else:\n",
    "        print(XXXXXXXXXXXX)\n",
    "else:\n",
    "    print(XXXXXXXXXXX)"
   ]
  },
  {
   "cell_type": "markdown",
   "metadata": {
    "colab_type": "text",
    "id": "UsBy6SU4UC1t"
   },
   "source": [
    "少し入り組んでいてややこしいですね．条件の部分は ```and``` や ```or``` を使って接続することができます．"
   ]
  },
  {
   "cell_type": "code",
   "execution_count": null,
   "metadata": {
    "check": 8,
    "colab": {},
    "colab_type": "code",
    "id": "FLv42OmRUC1u"
   },
   "outputs": [],
   "source": [
    "a = int(input(\"講義科目の取得単位数は？\"))\n",
    "b = int(input(\"実習科目の取得単位数は？\"))\n",
    "c = int(input(\"在籍年数は?\"))\n",
    "\n",
    "if (a>=50) and (b>=12) and (c<=8):\n",
    "    print(XXXXXXXXXXXX)\n",
    "else:\n",
    "    print(XXXXXXXXXXXX)"
   ]
  },
  {
   "cell_type": "markdown",
   "metadata": {
    "colab_type": "text",
    "id": "NkbYOE-hUC1x"
   },
   "source": [
    "授業では，否定の条件での構成できることも紹介しました．「どれか一つでも条件を満たしていなかったら不合格」は ```or``` を使って書くことができます．```or``` を使うと，上のプログラムは以下のようになります．"
   ]
  },
  {
   "cell_type": "code",
   "execution_count": null,
   "metadata": {
    "check": 9,
    "colab": {},
    "colab_type": "code",
    "id": "dOKMiXwaUC1z"
   },
   "outputs": [],
   "source": [
    "a = int(input(\"講義科目の取得単位数は？\"))\n",
    "b = int(input(\"実習科目の取得単位数は？\"))\n",
    "c = int(input(\"在籍年数は?\"))\n",
    "\n",
    "if (a<50) or (b<12) or (c>8):\n",
    "    print(XXXXXXXXXX)\n",
    "else:\n",
    "    print(XXXXXXXXXX)"
   ]
  },
  {
   "cell_type": "markdown",
   "metadata": {
    "colab_type": "text",
    "id": "C31b4F6kUC2N"
   },
   "source": [
    "## 練習6\n",
    "\n",
    "以下のフローチャートについて\n",
    "\n",
    "![](https://ogilab.kutc.kansai-u.ac.jp/downloads/complang/figs_kadai04/kadai04_05.png)\n",
    "\n",
    "このフローチャート通りにプログラムが動くように，下のプログラムの xxxxxxxx に適切な式を入れてください．"
   ]
  },
  {
   "cell_type": "code",
   "execution_count": null,
   "metadata": {
    "check": 10,
    "colab": {},
    "colab_type": "code",
    "id": "-8PLWQVWUC2O"
   },
   "outputs": [],
   "source": [
    "a = int(input(\"年齢を入力してください:\"))\n",
    "b = input(\"あなたは大阪市民ですか？yes または no で答えてください\")\n",
    "if b==\"no\":\n",
    "    print(\"割引はありません\")\n",
    "else:\n",
    "    if xxxxxxxx:\n",
    "        print(\"特別割引になります\")\n",
    "    else:\n",
    "        if xxxxxxxxx:\n",
    "            print(\"特別割引になります\")\n",
    "        else:\n",
    "            print(\"優待割引になります\")\n",
    "print(\"おわり\")"
   ]
  },
  {
   "cell_type": "markdown",
   "metadata": {
    "colab_type": "text",
    "id": "dfapo4t0UC2Q"
   },
   "source": [
    "## 繰り返し: for\n",
    "\n",
    "### range関数\n",
    "何度も繰り返す処理は，以下のように ```range``` を使って書くことができます．\n",
    "\n",
    "```python\n",
    "for 変数 in range(繰り返し回数):\n",
    "    繰り返したい処理\n",
    "```"
   ]
  },
  {
   "cell_type": "code",
   "execution_count": null,
   "metadata": {
    "check": 11,
    "colab": {},
    "colab_type": "code",
    "id": "xkGcVaj4UC2Q"
   },
   "outputs": [],
   "source": [
    "for i in range(10):\n",
    "    print(\"繰り返し\",i,\"回目\")"
   ]
  },
  {
   "cell_type": "markdown",
   "metadata": {
    "colab_type": "text",
    "id": "crnxGh_lUC2T"
   },
   "source": [
    "range は\n",
    "```python\n",
    "range(最初の数, 最後の数, 差分)\n",
    "```\n",
    "のような使い方もできます．"
   ]
  },
  {
   "cell_type": "code",
   "execution_count": null,
   "metadata": {
    "check": 12,
    "colab": {},
    "colab_type": "code",
    "id": "eq72neFTUC2T"
   },
   "outputs": [],
   "source": [
    "for i in range(0,10,2):\n",
    "    print(i)"
   ]
  },
  {
   "cell_type": "markdown",
   "metadata": {
    "colab_type": "text",
    "id": "xmILKdW4UC2U"
   },
   "source": [
    "__「最後の数」は含まれない__ことに注意する必要があります．"
   ]
  },
  {
   "cell_type": "markdown",
   "metadata": {
    "colab_type": "text",
    "id": "hRm2BWQEUC2V"
   },
   "source": [
    "## 練習7\n",
    "![](https://ogilab.kutc.kansai-u.ac.jp/downloads/complang/figs_kadai04/kadai04_06.png)\n",
    "\n",
    "ややこしいですが，ループ記号で ```i:1,1,i>10``` というのは，カウンタ変数が i で，初期値が1, 増分が1, 終了条件が10より大きくなったら，ということで，10まで繰り返されます．つまり，1から10までの和を求めるプログラムですが，python で書くと，以下の XXX は何を書けば良いでしょうか？"
   ]
  },
  {
   "cell_type": "code",
   "execution_count": null,
   "metadata": {
    "check": 13,
    "colab": {},
    "colab_type": "code",
    "id": "1VxNBZcjUC2W"
   },
   "outputs": [],
   "source": [
    "sum = 0\n",
    "\n",
    "for i in range(XXX,XXX,XXX):\n",
    "    print(\"i=\",i)\n",
    "    sum = sum+i\n",
    "\n",
    "print(\"sum=\",sum)"
   ]
  },
  {
   "cell_type": "markdown",
   "metadata": {
    "colab_type": "text",
    "id": "tFPrvkJtUC2X"
   },
   "source": [
    "## 練習8\n",
    "\n",
    "以下のフローチャートについて\n",
    "\n",
    "![](https://ogilab.kutc.kansai-u.ac.jp/downloads/complang/figs_kadai04/kadai04_07.png)\n",
    "\n",
    "このフローチャート通りに動くようにするためには，以下のプログラムの XX に何を入れればよいでしょうか？"
   ]
  },
  {
   "cell_type": "code",
   "execution_count": null,
   "metadata": {
    "check": 14,
    "colab": {},
    "colab_type": "code",
    "id": "5STmLLp5UC2Z"
   },
   "outputs": [],
   "source": [
    "k = int(input(\"kを入力してください\"))\n",
    "\n",
    "sum=0\n",
    "for i in range(XXX,XXX,XXX):\n",
    "    sum=sum+i\n",
    "\n",
    "print(\"sum=\",sum)"
   ]
  },
  {
   "cell_type": "markdown",
   "metadata": {
    "colab_type": "text",
    "id": "SvVA5bgwUC2a"
   },
   "source": [
    "## 練習9\n",
    "以下のフローチャートについて\n",
    "\n",
    "![](https://ogilab.kutc.kansai-u.ac.jp/downloads/complang/figs_kadai04/kadai04_08.png)\n",
    "\n",
    "このフローチャート通りに動くようにするためには，以下のプログラムの XXXXXXXX に何を入れればよいでしょうか？"
   ]
  },
  {
   "cell_type": "code",
   "execution_count": null,
   "metadata": {
    "check": 15,
    "colab": {},
    "colab_type": "code",
    "id": "zdWN18KtUC2c"
   },
   "outputs": [],
   "source": [
    "sum=0\n",
    "\n",
    "for i in range(XX,XX,XX):\n",
    "    XXXXXXXXXXX\n",
    "\n",
    "print(XXXXXXXXX)"
   ]
  },
  {
   "cell_type": "markdown",
   "metadata": {
    "colab_type": "text",
    "id": "gaNG4yP-UC2d"
   },
   "source": [
    "## if...elif...else"
   ]
  },
  {
   "cell_type": "markdown",
   "metadata": {
    "colab_type": "text",
    "id": "Nh7_dvS8UC2f"
   },
   "source": [
    "条件がたくさんある場合の分岐はどのように書いたら良いでしょうか？\n",
    "\n",
    "他のプログラム言語には switch という命令があり，例えばC言語では\n",
    "```c\n",
    "switch(式){\n",
    "    case 条件1:\n",
    "        命令1;\n",
    "        break;\n",
    "    case 条件2:\n",
    "        命令2;\n",
    "        break;\n",
    "}\n",
    "```\n",
    "のように書きます．\n",
    "\n",
    "Python には switch はありません．その代わり，```elif``` という命令で条件を並べます．\n",
    "\n",
    "```python\n",
    "\n",
    "if 条件１:\n",
    "    命令１\n",
    "elif 条件２:\n",
    "    命令２\n",
    "elif 条件３:\n",
    "    命令３\n",
    "else:\n",
    "    命令４\n",
    "```"
   ]
  },
  {
   "cell_type": "code",
   "execution_count": null,
   "metadata": {
    "check": 16,
    "colab": {},
    "colab_type": "code",
    "id": "2jCe-eLWUC2f"
   },
   "outputs": [],
   "source": [
    "# 例：以下は，あるコミュニケーションロボットの一部のプログラムです．\n",
    "\n",
    "x = int(input(\"あなたの年齢を教えてください\"))\n",
    "\n",
    "if 0<=x<10:\n",
    "    message = \"ぼっちゃんかわいいね\"\n",
    "elif 10<=x<20:\n",
    "    message = \"親の言うことをよく聞いてください\"\n",
    "elif 20<=x<=30:\n",
    "    message = \"まだまだケツが青いですね\"\n",
    "else:\n",
    "    message = \"ようやく一人前になれましたか？\"\n",
    "\n",
    "print(message)"
   ]
  },
  {
   "cell_type": "markdown",
   "metadata": {
    "colab_type": "text",
    "id": "oyBhDqlAUC2h"
   },
   "source": [
    "## 練習10\n",
    "\n",
    "BMI は身長$h[m]$と体重$w[kg]$から以下の式で計算することができます．\n",
    "\n",
    "$$\n",
    "BMI = \\frac{w}{h^2}\n",
    "$$\n",
    "\n",
    "この数字を元に\n",
    "\n",
    "| BMI | 評価 |\n",
    "|----| -----|\n",
    "| 18.5未満 | やせている |\n",
    "| 18.5以上25未満 | ふつう |\n",
    "| 25以上35未満 | ちょっと太っている |\n",
    "| 35以上 | かなり太っている |\n",
    "\n",
    "のように評価されます．\n",
    "\n",
    "身長と体重を入力したらBMIの評価が表示されるように，以下のプログラムを完成させてください．（単位を変換しなければならないことに注意してください）"
   ]
  },
  {
   "cell_type": "code",
   "execution_count": null,
   "metadata": {
    "check": 17,
    "colab": {},
    "colab_type": "code",
    "id": "eNzonaHoUC2h"
   },
   "outputs": [],
   "source": [
    "h = 169.0 #身長[cm]\n",
    "w = 68.0  #体重[kg]\n",
    "\n",
    "bmi = XXXXXXXX\n",
    "\n",
    "if bmi<18.5:\n",
    "    XXXXXXXX\n",
    "elif XXXXXXXX:\n",
    "    XXXXXXXX\n",
    "elif XXXXXXXXX:\n",
    "    XXXXXXXX\n",
    "elif XXXXXXXXX:\n",
    "    XXXXXXXX\n",
    "    "
   ]
  },
  {
   "cell_type": "markdown",
   "metadata": {},
   "source": [
    "## 練習11\n",
    "\n",
    "以下は 1 から 20 までの数について3で割ったあまりを出力するプログラムです．以下の XXXX を埋めてください．"
   ]
  },
  {
   "cell_type": "code",
   "execution_count": null,
   "metadata": {},
   "outputs": [],
   "source": [
    "for i in range(XXXXXXXXX):\n",
    "    amari = XXXXXXXXXX\n",
    "    print(f\"{i}を3で割ったあまりは{amari}です\")"
   ]
  },
  {
   "cell_type": "markdown",
   "metadata": {},
   "source": [
    "## 練習12\n",
    "\n",
    "以下は 1 から 100 までの数の中で 37 で割りきれる数をかぞえるプログラムです．以下の XXXXX を埋めてください．"
   ]
  },
  {
   "cell_type": "code",
   "execution_count": null,
   "metadata": {},
   "outputs": [],
   "source": [
    "num = 0\n",
    "for i in range(XXXXX):\n",
    "    if XXXXXXXXX:\n",
    "        num = num+1\n",
    "        \n",
    "print(f\"1 から 100 までで 37 で割りきれる数は{num}個でした\")"
   ]
  },
  {
   "cell_type": "markdown",
   "metadata": {
    "colab_type": "text",
    "id": "oWM0vka5UC2j"
   },
   "source": [
    "## 練習13\n",
    "\n",
    "プログラムの[FizzBuzz](https://ja.wikipedia.org/wiki/Fizz_Buzz) という問題があります．\n",
    "\n",
    "* [「どうしてプログラマに・・・プログラムが書けないのか?」](http://www.aoky.net/articles/jeff_atwood/why_cant_programmers_program.htm)\n",
    "\n",
    "というエッセイによってプログラマを見分ける問題として有名になったそうです．\n",
    "具体的には以下のような問題になっています．\n",
    "\n",
    "```\n",
    "1から100までの数をプリントするプログラムを書け。\n",
    "ただし3の倍数のときは数の代わりに｢Fizz｣と、\n",
    "5の倍数のときは｢Buzz｣とプリントし、\n",
    "3と5両方の倍数の場合には｢FizzBuzz｣とプリントすること。\n",
    "```\n",
    "\n",
    "これを ```if, elif, else``` を使って  Python で書いてみてください．"
   ]
  },
  {
   "cell_type": "code",
   "execution_count": null,
   "metadata": {
    "check": 18,
    "colab": {},
    "colab_type": "code",
    "id": "r0iLeuSHUC2j"
   },
   "outputs": [],
   "source": [
    "for i in range(1,101):\n",
    "\n",
    "X\n",
    "X\n",
    "X\n",
    "X\n",
    "X\n",
    "X\n",
    "X\n",
    "    \n",
    "    \n",
    "    \n",
    "    \n",
    "    \n",
    "    \n",
    "    "
   ]
  },
  {
   "cell_type": "markdown",
   "metadata": {
    "colab_type": "text",
    "id": "uBsvO9EgUC2l"
   },
   "source": [
    "## 課題提出\n"
   ]
  },
  {
   "cell_type": "markdown",
   "metadata": {
    "colab_type": "text",
    "id": "5ekIfT-9UC2m"
   },
   "source": [
    "名前："
   ]
  },
  {
   "cell_type": "markdown",
   "metadata": {
    "colab_type": "text",
    "id": "ADsm7wFXUC2n"
   },
   "source": [
    "学籍番号："
   ]
  },
  {
   "cell_type": "markdown",
   "metadata": {
    "colab_type": "text",
    "id": "k7ClxJ-tUC2n"
   },
   "source": [
    "感想："
   ]
  },
  {
   "cell_type": "markdown",
   "metadata": {
    "colab_type": "text",
    "id": "Rq9akNpWUC2o"
   },
   "source": [
    "ファイルを保存したら，このファイルをファイルメニューの「.ipynbをダウンロード」からダウンロードし，関大LMSで提出してください．"
   ]
  }
 ],
 "metadata": {
  "colab": {
   "collapsed_sections": [],
   "name": "kadai4.ipynb のコピー",
   "provenance": [],
   "version": "0.3.2"
  },
  "kernelspec": {
   "display_name": "Python 3 (ipykernel)",
   "language": "python",
   "name": "python3"
  },
  "language_info": {
   "codemirror_mode": {
    "name": "ipython",
    "version": 3
   },
   "file_extension": ".py",
   "mimetype": "text/x-python",
   "name": "python",
   "nbconvert_exporter": "python",
   "pygments_lexer": "ipython3",
   "version": "3.11.5"
  }
 },
 "nbformat": 4,
 "nbformat_minor": 4
}
