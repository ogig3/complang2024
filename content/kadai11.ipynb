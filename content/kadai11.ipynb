{
 "cells": [
  {
   "cell_type": "markdown",
   "metadata": {
    "id": "l0XUZT1sBsiZ"
   },
   "source": [
    "# コンピュータの言語2024：課題11 「再帰による描画とクイックソート」\n",
    "\n",
    "## はじめに\n",
    "\n",
    "前回の授業では，ソート（並べ替え）についての２つのアルゴリズムを紹介しました．選択ソートについては課題で勉強してもらいましたが，より効率の良い__クイックソート__については，簡単に「再帰」というもので実現されるということだけを伝えました．今回の課題では，再帰の考え方に慣れ，クイックソートを理解することを目標にします．\n",
    "\n",
    "今回の目的は\n",
    "\n",
    "* 簡単なプログラム学習ツールの体験\n",
    "* 「 __再帰 (recursive）__ 」という考え方を理解する\n",
    "* クイックソートのアルゴリズムを理解する\n",
    "\n",
    "です．\n",
    "\n",
    "## Hour of Code\n",
    "\n",
    "最近，世界的に小学生からプログラムを学習を始めようという流れが出てきています．\n",
    "\n",
    "* [Hour of Code - WORLDWIDE](https://youtu.be/2DxWIxec6yo)\n",
    "* [\"Code Stars\" - Short Film](https://youtu.be/dU1xS07N-FA)\n",
    "* [What is Creativity?](https://youtu.be/VYqHGIR7a_k)\n",
    "\n",
    "[このサイト](http://hourofcode.com/jp/) には様々な学習教材があります．ブロックで組み上げることでプログラムすることができるビジュアルプログラミング言語 [Scratch](http://scratch.mit.edu) が使われています．\n",
    "\n",
    "今回は，まずこの Scratch を通して，初等教育におけるプログラミング教育の最前線を体験してみるために，以下のチュートリアルを１５回目までやってみてください．\n",
    "\n",
    "[魔法と氷の美しさを探検するアナとエルザと一緒にコードを使いましょう](http://studio.code.org/s/frozen/stage/1/puzzle/1)\n",
    "\n",
    "## Python: turtle\n",
    "\n",
    "さて，アナとエルザで\n",
    "\n",
    "* まえに動く\n",
    "* 後ろに動く\n",
    "* 右に向く\n",
    "* 左に向く\n",
    "* 繰り返し\n",
    "\n",
    "などのブロックに慣れたと思います．これを Python でやってみましょう．同じようにキャラクターが動いて絵を描くツールとして，Python には turtle というライブラリが用意されています．turtle はカメですね．カメのキャラクターが Python の命令で動きます．ただし，google colab では turtle をアニメーションとして動かすことができないため，turtle を動かすことができません．その代わりに 最近，ColabTurtle というライブラリが作成されました．これをまずインストールしましょう．"
   ]
  },
  {
   "cell_type": "code",
   "execution_count": null,
   "metadata": {
    "id": "HLlnj4yAB1X_"
   },
   "outputs": [],
   "source": [
    "!pip3 install ColabTurtle\n",
    "import ColabTurtle.Turtle as t"
   ]
  },
  {
   "cell_type": "markdown",
   "metadata": {
    "id": "JIk74qKQKQsL"
   },
   "source": [
    "そして，GoogleColab 用のturtle を動かしてみます．"
   ]
  },
  {
   "cell_type": "code",
   "execution_count": null,
   "metadata": {
    "id": "YcLepBgkB8IX"
   },
   "outputs": [],
   "source": [
    "t.initializeTurtle(initial_speed=5)\n",
    "t.color('orange')  # 色はオレンジ\n",
    "t.bgcolor('white') # 背景は白\n",
    "t.width(2)         # 太さは 2 ピクセル\n",
    "\n",
    "t.forward(50)      # 前に50ピクセル進む\n",
    "t.left(90)         # 左に90度回転する\n",
    "t.forward(50)      # 前に50ピクセル進む\n",
    "t.left(90)         # 左に90度回転する"
   ]
  },
  {
   "cell_type": "markdown",
   "metadata": {
    "id": "uZ-y6O7sDPOu"
   },
   "source": [
    "最初の４行は turtle を使うためのおまじないと思ってください．そのあとの部分で前に進んだり，回転したりする命令を出すことで，カメに線を描かせています．"
   ]
  },
  {
   "cell_type": "code",
   "execution_count": null,
   "metadata": {
    "id": "yE6XOhMVDP20"
   },
   "outputs": [],
   "source": [
    "t.initializeTurtle(initial_speed=5)\n",
    "t.color('orange')\n",
    "t.bgcolor('white')\n",
    "\n",
    "t.forward(100)\n",
    "t.right(90)\n",
    "t.forward(100)\n",
    "t.right(90)\n",
    "t.forward(100)\n",
    "t.right(90)\n",
    "t.forward(100)"
   ]
  },
  {
   "cell_type": "markdown",
   "metadata": {
    "id": "SDCIDd0_FX9S"
   },
   "source": [
    "## 課題1\n",
    "\n",
    "さて，１２回目の練習に「平行四辺形を３６度回転しながら１０回繰り返して描くことで新しい雪の結晶を描いてみましょう。」というものがありました．\n",
    "\n",
    "![](https://ogilab.kutc.kansai-u.ac.jp/downloads/complang/figs_kadai11/kadai11_01.png)\n",
    "\n",
    "図のような模様を描くためには，***(1)***, ***(2)*** に何を入れればよいでしょうか？"
   ]
  },
  {
   "cell_type": "code",
   "execution_count": null,
   "metadata": {
    "id": "L2cjxaXEETir"
   },
   "outputs": [],
   "source": [
    "t.initializeTurtle(initial_speed=5)\n",
    "t.color('orange')\n",
    "t.bgcolor('white')\n",
    "\n",
    "for i in ***(1)***:\n",
    "\tfor j in range(2):\n",
    "\t\tt.forward(100)\n",
    "\t\tt.right(60)\n",
    "\t\tt.forward(100)\n",
    "\t\tt.right(120)\n",
    "\tt.***(2)***\n"
   ]
  },
  {
   "cell_type": "markdown",
   "metadata": {
    "id": "ucoyjOSkFt-A"
   },
   "source": [
    "## 渦巻き模様\n",
    "\n",
    "次に，渦巻き模様を描いてみましょう．\n",
    "そのために，まず正方形から始めます．"
   ]
  },
  {
   "cell_type": "code",
   "execution_count": null,
   "metadata": {
    "id": "hNdN8DV4Fupl"
   },
   "outputs": [],
   "source": [
    "t.initializeTurtle(initial_speed=5)\n",
    "t.color('orange')\n",
    "t.bgcolor('white')\n",
    "\n",
    "t.forward(100)\n",
    "t.right(90)\n",
    "t.forward(100)\n",
    "t.right(90)\n",
    "t.forward(100)\n",
    "t.right(90)\n",
    "t.forward(100)"
   ]
  },
  {
   "cell_type": "markdown",
   "metadata": {
    "id": "AnOwhK1aF4Xr"
   },
   "source": [
    "前に進んで右に９０度回転する，ということを繰り返せばよいですね．\n",
    "渦巻きにするためには，前に行く距離をだんだん小さくすればよいですね．"
   ]
  },
  {
   "cell_type": "code",
   "execution_count": null,
   "metadata": {
    "id": "yQt2NIkPF5FL"
   },
   "outputs": [],
   "source": [
    "t.initializeTurtle(initial_speed=5)\n",
    "t.color('orange')\n",
    "t.bgcolor('white')\n",
    "\n",
    "t.forward(100)\n",
    "t.right(90)\n",
    "t.forward(95)\n",
    "t.right(90)\n",
    "t.forward(90)\n",
    "t.right(90)\n",
    "t.forward(85)\n",
    "t.right(90)\n",
    "t.forward(80)\n",
    "t.right(90)\n",
    "t.forward(75)\n",
    "t.right(90)\n",
    "t.forward(70)\n",
    "t.right(90)"
   ]
  },
  {
   "cell_type": "markdown",
   "metadata": {
    "id": "K-617R-NGCXM"
   },
   "source": [
    "## 課題２\n",
    "\n",
    "同じような形になっているので，```for``` による繰り返しが使えそうです．以下のプログラムの　***(1)*** には何が入るでしょう？"
   ]
  },
  {
   "cell_type": "code",
   "execution_count": null,
   "metadata": {
    "id": "A_AnGrcuF9Mi"
   },
   "outputs": [],
   "source": [
    "t.initializeTurtle(initial_speed=5)\n",
    "t.color('orange')\n",
    "t.bgcolor('white')\n",
    "\n",
    "x = 100\n",
    "for i in range(20):\n",
    "    t.forward(x)\n",
    "    t.right(90)\n",
    "    x = ***(1)***"
   ]
  },
  {
   "cell_type": "markdown",
   "metadata": {
    "id": "p7EMTcWlGNZX"
   },
   "source": [
    "for を使って，より短いコードでパターンを描くことができました．\n",
    "\n",
    "\n",
    "## 再帰による描画\n",
    "\n",
    "さて，渦巻きというパターンは「渦の中にまた渦があって，その中にまた渦があって」という繰り返しとして考えることができます．このように「構造の中にまた同じ構造が現れる」パターンは__再帰__ で表現することができます．つまり，「渦を描け」という命令の中に「もっと小さい渦を描け」と命令をしておけば，一度その命令をよびだすだけで，どんどんと小さな渦を描く命令が繰り返されていくわけです．関数的に書くと\n",
    "\n",
    "```\n",
    "渦を描け（渦を描け（渦を描け（．．．）））\n",
    "```\n",
    "\n",
    "となります．\n",
    "\n",
    "これをpython で書くと以下のようになります．\n",
    "\n"
   ]
  },
  {
   "cell_type": "code",
   "execution_count": null,
   "metadata": {
    "id": "hwKnrjrJGN-B"
   },
   "outputs": [],
   "source": [
    "t.initializeTurtle(initial_speed=5)\n",
    "t.color('orange')\n",
    "t.bgcolor('white')\n",
    "\n",
    "def draw_spiral( a ): # a の長さの線を描け関数\n",
    "  if a>0:\n",
    "    t.forward(a)\n",
    "    t.right(90)\n",
    "    draw_spiral(a-5)  # 自分の中で自分を呼び出し！\n",
    "\n",
    "draw_spiral(100)"
   ]
  },
  {
   "cell_type": "markdown",
   "metadata": {
    "id": "jQk_Okv1Iv05"
   },
   "source": [
    "```draw_spiral(a)``` は 「a の長さの線を描いて90度回転しろ」ですが，その中で「aより5短い長さの線を描いて90度回転しろ」が呼ばれ，さらにそれよりも小さなものを描いて．．と繰り返されていきます．それはどこまで続くのでしょう？「a>0」が成り立つ限り，ということですね．\n",
    "\n",
    "\n",
    "渦に限らず，自分の中に自分が出てくる図形のことを「[フラクタル](http://ja.wikipedia.org/wiki/フラクタル)」と言います．自然界の中にもそのようなパターンはあります．例えば以下のロマネスコブロッコリーもそうです．\n",
    "\n",
    "![](http://ogilab.kutc.kansai-u.ac.jp/downloads/complang/figs_kadai11/romanesco.png)\n",
    "\n",
    "鳥肌がたちそうですね．\n",
    "\n",
    "木も再帰を使って描くことができます．"
   ]
  },
  {
   "cell_type": "code",
   "execution_count": null,
   "metadata": {
    "id": "ZHmaPrw4GkuM"
   },
   "outputs": [],
   "source": [
    "t.initializeTurtle(initial_speed=10)\n",
    "t.color('orange')\n",
    "t.bgcolor('white')\n",
    "\n",
    "def tree(branchLen,t):\n",
    "    if branchLen > 5:\n",
    "        t.forward(branchLen)\n",
    "        t.right(20)\n",
    "        tree(branchLen-10,t)\n",
    "        t.left(40)\n",
    "        tree(branchLen-10,t)\n",
    "        t.right(20)\n",
    "        t.backward(branchLen)\n",
    "\n",
    "t.left(70)\n",
    "t.backward(200)\n",
    "tree(75,t)"
   ]
  },
  {
   "cell_type": "markdown",
   "metadata": {
    "id": "sSdapeBIG8p7"
   },
   "source": [
    "## 課題３\n",
    "\n",
    "上記の tree という関数は，tree(75,t) から始まって何回呼ばれている（使われている）でしょうか？\n",
    "\n",
    "### ヒント\n",
    "\n",
    "turtle で渦巻きを描くプログラムでは ```draw_spiral``` は何回呼ばれているでしょうか．\n",
    "１回目は ```draw_spiral(100)``` ですね．この中で ```draw_spiral(95)``` が呼ばれ，その中で ```draw_spiral(90)``` が呼ばれ，．．．．と，どんどんと命令が生成されていきます．どこまで呼ばれるでしょうか？関数の中に ```a>0``` という条件があるので，a が 0 になるまでということになります．つまり，最後は ```draw_spiral(0)``` が呼ばれ，if の処理には入らず ```draw_spiral ``` の呼び出しは終わります．\n",
    "\n",
    "ということで，```100, 95, 90, ..., 0``` の数を数えればよいので，```100/5+1 = 21``` 回呼び出されるということになります．"
   ]
  },
  {
   "cell_type": "markdown",
   "metadata": {
    "id": "Zswr2YGMMDxJ"
   },
   "source": [
    "回答：tree 関数は XXX 回呼ばれている．"
   ]
  },
  {
   "cell_type": "markdown",
   "metadata": {
    "id": "WPuTCdT7HH7f"
   },
   "source": [
    "## クイックソート\n",
    "\n",
    "さて，前回の授業で出てきたクイックソートですが，そのフローチャートは以下のようになると紹介しました．\n",
    "\n",
    "![](https://ogilab.kutc.kansai-u.ac.jp/downloads/complang/figs_kadai11/kadai11_02.png)\n",
    "\n",
    "wikipedia の説明にも以下のようにあります．\n",
    "\n",
    "```\n",
    "1. 適当な数（ピボットという）を選択する \n",
    "2. ピボットより小さい数を前方、大きい数を後方に移動させる （分割）\n",
    "3. 二分割された各々のデータを、それぞれソートする\n",
    "```\n",
    "\n",
    "これを別の見方をしてみましょう．\n",
    "\n",
    "```\n",
    "1. 適当な数（ピボットという）を選択する \n",
    "2. ピボットより小さい数を less という袋に入れ、\n",
    "   ピボットより大きい数を more という袋に入れ\n",
    "   ピボットと同じ数を same という袋に入れる\n",
    "3. 二分割された各々の袋の中のデータについて、\n",
    "   袋の中が１つになるまで 1,2 の作業を繰り返す．\n",
    "```\n",
    "\n",
    "この作業を python で実装することを考えてみます．\n",
    "まず，あるリストが与えられた時に，リストの最初の値を基準にして，小さいものは ```less``` というリストに， 大きいものは ```more``` というリストに分けることを考えてみましょう．\n",
    "\n",
    "そのために，前回紹介した append という命令を思い出しましょう．append はリストに要素を付け足してくれる命令です．\n",
    "\n",
    "```python\n",
    ">>> lis = [1,5,3]\n",
    ">>> lis.append(4)\n",
    ">>> lis\n",
    "[1, 5, 3, 4]\n",
    "```\n",
    "\n",
    "この ```append ``` を使うと，3つの袋に分ける処理は以下のように書くことができます．\n"
   ]
  },
  {
   "cell_type": "code",
   "execution_count": null,
   "metadata": {
    "id": "qIRSVjTDIf-c"
   },
   "outputs": [],
   "source": [
    "lis = [3,6,1,4,8,5]\n",
    "\n",
    "less = []  # less という空のリストを用意\n",
    "more = []  # more という空のリストを用意\n",
    "same = []  # same という空のリストを用意\n",
    "\n",
    "pivot = lis[0]    # lis の最初の要素を pivot とする\n",
    "\n",
    "for i in lis:   # lis のそれぞれの要素に対して．．．\n",
    "\tif i < pivot:\n",
    "\t\tless.append(i) # 小さいものは less に入れる\n",
    "\telif i> pivot:\n",
    "\t\tmore.append(i) # 大きいものは more に入れる\n",
    "\telse:\n",
    "\t\tsame.append(i) # それ以外（おなじもの）は same に入れる\n",
    "\n",
    "print( less )\n",
    "print( more )\n",
    "print( same )"
   ]
  },
  {
   "cell_type": "markdown",
   "metadata": {
    "id": "NbBbriz-IUh0"
   },
   "source": [
    "さて，これをあるリストを受け取って，less, same, more の順に並び替えたリストを返す関数にしてみましょう．\n",
    "\n",
    "```python\n",
    "\n",
    "def qsort(lis):\n",
    "\tless = []  # less という空のリストを用意\n",
    "\tmore = []  # more という空のリストを用意\n",
    "\tsame = []  # same という空のリストを用意\n",
    "\n",
    "\tpivot = lis[0]    # lis の最初の要素を pivot とする\n",
    "\n",
    "\tfor i in lis:   # lis のそれぞれの要素に対して．．．\n",
    "\t\tif i < pivot:\n",
    "\t\t\tless.append(i)  #小さいものは less へ入れる\n",
    "\t\telif i > pivot:\n",
    "\t\t\tmore.append(i)  #大きいものは more へ入れる\n",
    "\t\telse:\n",
    "\t\t\tsame.append(i)  # 同じものは same へ入れる\n",
    "\n",
    "\treturn less + same + more  # less,same,more の順に並べたリストを返す\n",
    "```\n",
    "\n",
    "さて，less のリストと more のリストのそれぞれについて，同じように基準を設けて大小（同じ）に分けていくという作業を繰り返していけば，最後にはリストの中が１つだけになり，分ける作業をしなくてよくなります．そのときには返されるリストは綺麗に並び終えたものということになります．\n",
    "\n",
    "ここで，「同じ作業を行え」ということで，__再帰__ が登場するのです．「less について並び替えなさい」，「more について並び替えなさい」というところで，自分の関数を呼び出すのです．\n",
    "\n",
    "以下が完全なクイックソートの関数になります．\n",
    "\n",
    "```python\n",
    "def qsort(lis):\n",
    "    less = []\n",
    "    same = []\n",
    "    more = []\n",
    "    if len(lis) <= 1:  # リストの要素が１つだったら，\n",
    "        return lis     # 受け取ったリストをそのまま返す\n",
    "    else:\n",
    "        pivot = lis[0]\n",
    "        for i in lis:\n",
    "            if i < pivot:\n",
    "                less.append(i)\n",
    "            elif i > pivot:\n",
    "                more.append(i)\n",
    "            else:\n",
    "                same.append(i)\n",
    "        less = qsort(less)        # less の中を並び替え\n",
    "        more = qsort(more)     # more の中を並び替え\n",
    "        return less + same + more\n",
    " \n",
    "a = [4, 65, 2, -31, 0, 99, 83, 782, 1]\n",
    "a = qsort(a)\n",
    "\n",
    "```\n",
    "\n",
    "[ここ](http://rosettacode.org/wiki/Sorting_algorithms/Quicksort#Python) には様々な言語によるクイックソートのアルゴリズムの実装が紹介されています．Python の一番短い実装は以下の３行のものです．こんなに短く書けるなんて驚きですね！\n",
    "\n",
    "```python\n",
    "def qsort(L):\n",
    "    if len(L) <= 1: return L\n",
    "    return qsort([lt for lt in L[1:] if lt < L[0]]) + L[0:1] + qsort([ge for ge in L[1:] if ge >= L[0]])\n",
    "```\n",
    "\n",
    "## 課題4（チャレンジ）\n",
    "\n",
    "上の ```[4, 65, 2, -31, 0, 99, 83, 782, 1]```を並び替えるプログラムでは， ```qsort``` は何回呼ばれているでしょうか？\n",
    "\n"
   ]
  },
  {
   "cell_type": "code",
   "execution_count": null,
   "metadata": {
    "id": "lRFEDnJgHIlQ"
   },
   "outputs": [],
   "source": [
    "def qsort(lis):\n",
    "    less = []\n",
    "    same = []\n",
    "    more = []\n",
    "    if len(lis) <= 1:  # リストの要素が１つだったら，\n",
    "        return lis     # 受け取ったリストをそのまま返す\n",
    "    else:\n",
    "        pivot = lis[0]\n",
    "        for i in lis:\n",
    "            if i < pivot:\n",
    "                less.append(i)\n",
    "            elif i > pivot:\n",
    "                more.append(i)\n",
    "            else:\n",
    "                same.append(i)\n",
    "        less = qsort(less)        # less の中を並び替え\n",
    "        more = qsort(more)     # more の中を並び替え\n",
    "        return less + same + more\n",
    " \n",
    "a = [4, 65, 2, -31, 0, 99, 83, 782, 1]\n",
    "a = qsort(a)"
   ]
  },
  {
   "cell_type": "markdown",
   "metadata": {
    "id": "KOtAg8jsL5_N"
   },
   "source": [
    "qsort は XXX 回呼ばれている．"
   ]
  },
  {
   "cell_type": "code",
   "execution_count": null,
   "metadata": {
    "id": "oefraZiOL86K"
   },
   "outputs": [],
   "source": []
  }
 ],
 "metadata": {
  "colab": {
   "collapsed_sections": [],
   "name": "kadai11.ipynb",
   "provenance": []
  },
  "kernelspec": {
   "display_name": "Python 3 (ipykernel)",
   "language": "python",
   "name": "python3"
  },
  "language_info": {
   "codemirror_mode": {
    "name": "ipython",
    "version": 3
   },
   "file_extension": ".py",
   "mimetype": "text/x-python",
   "name": "python",
   "nbconvert_exporter": "python",
   "pygments_lexer": "ipython3",
   "version": "3.11.5"
  }
 },
 "nbformat": 4,
 "nbformat_minor": 4
}
