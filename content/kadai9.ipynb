{
 "cells": [
  {
   "cell_type": "markdown",
   "metadata": {},
   "source": [
    "# コンピュータの言語2024：課題9\n",
    "\n",
    "\n",
    "今回の授業では選択ソートというものを学びました．今回の課題では選択ソートのアルゴリズムを python で実装してみます．\n",
    "__全てのセルを実行して試してください__"
   ]
  },
  {
   "cell_type": "markdown",
   "metadata": {},
   "source": [
    "## リストの復習\n",
    "\n",
    "Python で配列のように複数のデータをひとまとめにして扱うデータ型として __リスト__ というものがあります．リストは，例えば\n",
    "\n",
    "```python\n",
    "a = [1,2,3,4,5]\n",
    "```\n",
    "のように定義することができます．また，数字だけではなく文字も扱えます．\n",
    "\n",
    "```python\n",
    "b = [\"sun\", \"mon\", \"tue\", \"wed\", \"fri\", \"sat\"]\n",
    "```"
   ]
  },
  {
   "cell_type": "code",
   "execution_count": null,
   "metadata": {},
   "outputs": [],
   "source": [
    "# 上のリストを実行してください．\n",
    "a = [1,2,3,4,5]\n",
    "b = [\"sun\", \"mon\", \"tue\", \"wed\", \"fri\", \"sat\"]\n",
    "\n",
    "print(a)\n",
    "print(b)"
   ]
  },
  {
   "cell_type": "markdown",
   "metadata": {},
   "source": [
    "リストは単なる保存場所としてだけではなく，様々な便利な機能を持っています．\n",
    "今回は，その中から，幾つかを紹介します．\n",
    "\n",
    "### リストの要素の取り出し\n",
    "\n",
    "要素を取り出すには[] で番号（__インデックス__）を指定します．"
   ]
  },
  {
   "cell_type": "code",
   "execution_count": null,
   "metadata": {},
   "outputs": [],
   "source": [
    "a = [10,11,12,13,14]\n",
    "print( a[3] )      #3番を取り出す(0から始まっていることに注意！）"
   ]
  },
  {
   "cell_type": "markdown",
   "metadata": {},
   "source": [
    "```:(コロン)``` を使うと複数の要素を連続的に取り出すことができます．この機能は__スライシング__といいます．"
   ]
  },
  {
   "cell_type": "code",
   "execution_count": null,
   "metadata": {},
   "outputs": [],
   "source": [
    "b[1:3]    # 1番から5番未満まで(5番は含まれない)"
   ]
  },
  {
   "cell_type": "markdown",
   "metadata": {},
   "source": [
    "### リストの要素数を数える\n",
    "\n",
    "```len()```という関数を使うと，リストの長さ(length)を調べることができます．"
   ]
  },
  {
   "cell_type": "code",
   "execution_count": null,
   "metadata": {},
   "outputs": [],
   "source": [
    "a = [1,2,3,4,5]\n",
    "print( len(a) )"
   ]
  },
  {
   "cell_type": "markdown",
   "metadata": {},
   "source": [
    "### 要素のある場所を探す\n",
    "\n",
    "```index()``` というメソッドを使うと，リストの中で要素がある場所（インデックス）を調べることができます．"
   ]
  },
  {
   "cell_type": "code",
   "execution_count": null,
   "metadata": {},
   "outputs": [],
   "source": [
    "a = [5,3,4,1,2]\n",
    "print( a.index(4) )"
   ]
  },
  {
   "cell_type": "markdown",
   "metadata": {},
   "source": [
    "### 要素の追加・削除"
   ]
  },
  {
   "cell_type": "code",
   "execution_count": null,
   "metadata": {},
   "outputs": [],
   "source": [
    "a = [1,2,3,4,5]\n",
    "a.append(6) # 6 をリストの後ろにくっつける\n",
    "print(a)\n",
    "\n",
    "del( a[3] ) # index 3 の数字を削除\n",
    "print(a)"
   ]
  },
  {
   "cell_type": "markdown",
   "metadata": {},
   "source": [
    "### 要素を並べ替え(ソート)"
   ]
  },
  {
   "cell_type": "code",
   "execution_count": null,
   "metadata": {},
   "outputs": [],
   "source": [
    "a = [5,3,4,1,2]\n",
    "a.sort()\n",
    "print(a)"
   ]
  },
  {
   "cell_type": "markdown",
   "metadata": {},
   "source": [
    "### 最大，最小"
   ]
  },
  {
   "cell_type": "code",
   "execution_count": null,
   "metadata": {},
   "outputs": [],
   "source": [
    "a = [15,13,14,11,12]\n",
    "print( max(a) )\n",
    "print( min(a) )"
   ]
  },
  {
   "cell_type": "markdown",
   "metadata": {},
   "source": [
    "## 練習1\n",
    "上記の命令を利用して以下のプログラムを完成させてください．\n",
    "\n",
    "以下のリストをソート（昇順）し，\n",
    "1. 添え字（インデックス）が30番の数を答えてください．\n",
    "2. ソートしたリストで \"630\" はインデックスが何番か答えてください．"
   ]
  },
  {
   "cell_type": "code",
   "execution_count": null,
   "metadata": {},
   "outputs": [],
   "source": [
    "lis = [903, 343, 101, 394, 412, 117, 560, 310, 861, 731, 949, 147, \\\n",
    "750, 740, 879, 391, 25, 661, 606, 297, 139, 493, 970, 147, 508, 441, \\\n",
    "750, 633, 951, 537, 851, 829, 46, 849, 797, 881, 598, 1, 49, 615, 560, \\\n",
    "184, 368, 253, 36, 630, 37, 737, 316, 639, 383, 800, 66, 87, 402,\\\n",
    "685, 896, 885, 75, 611, 722, 665, 567, 415, 560, 61, 337, 764, 420,\\\n",
    "782, 134, 350, 281, 448, 944, 831, 978, 619, 631, 187, 105, 14, 687, \\\n",
    "590, 998, 962, 555, 663, 77, 254, 260, 704, 677, 263, 352, 565, \\\n",
    "831, 755, 107, 781]\n",
    " \n",
    "## ソートの処理\n",
    "lis.xxxxxxx\n",
    "print(\"ソートしたリストは以下です\")\n",
    "print(lis)\n",
    "\n",
    "## インデックス30は？\n",
    "print(f\"30番は{xxxxxx}\")\n",
    "      \n",
    "## \"630\" のインデックス\n",
    "print(f\"631のある位置（インデックス）は{xxxxxxx}です\")"
   ]
  },
  {
   "cell_type": "markdown",
   "metadata": {},
   "source": [
    "## 選択ソート\n",
    "\n",
    "python のリストには ```sort``` というコマンドがあるのですが，今回は，それを使わずに\n",
    "以上の命令を使って選択ソートをプログラムしてみましょう．\n",
    "\n",
    "選択ソートのフローチャートは以下のようになっています．\n",
    "(図を見ることができない人は[ここ](https://ogilab.kutc.kansai-u.ac.jp/downloads/complang/figs_kadai09/kadai09_01.png)をクリックして参照してください)\n",
    "\n",
    "![](https://ogilab.kutc.kansai-u.ac.jp/downloads/complang/figs_kadai09/kadai09_01.png)\n",
    "\n",
    "これを順番にプログラムしていきましょう．"
   ]
  },
  {
   "cell_type": "markdown",
   "metadata": {},
   "source": [
    "## 練習2：最小値を探す\n",
    "\n",
    "プログラムは小さな部品から作っていくことが重要です．\n",
    "まずは「__i 番目からN－1番目までのデータから最小値minを探す__」を実現するために，「__リストの番号 a から番号 b までの中から最小の数を見つける__」ということを目標にしましょう．以下のプログラムの ***(1)*** と ***(2)*** に適切なものを入れてプログラムを完成させてください．"
   ]
  },
  {
   "cell_type": "code",
   "execution_count": null,
   "metadata": {},
   "outputs": [],
   "source": [
    "data = [9,3,6,4,1,10]\n",
    "\n",
    "a = 0 #最初のインデックス\n",
    "b = 3 #最後のインデックス\n",
    "\n",
    "min_val = data[a]    # 最小値．最初は仮に番号 a の値にしておく\n",
    "min_pos = a           # 最小値の場所．最初は仮に a としておく\n",
    "\n",
    "for i in range(***(1)***):\n",
    "    print( i)\n",
    "    if ***(2)***:   # もし現在の最小値よりも小さかったら\n",
    "        min_val = data[i]\n",
    "        min_pos = i\n",
    "\n",
    "print( f\"最小値は{min_val}\")           # 最小値の値を出力\n",
    "print( f\"最小値のある位置は{min_pos}\")   # 最小値の場所を出力"
   ]
  },
  {
   "cell_type": "markdown",
   "metadata": {},
   "source": [
    "## リストの指定した範囲から最小値を見つける関数\n",
    "\n",
    "なんども呼び出す部分は関数にしておくと，全体の見通しが良くなります．上記の最小値を求める部分を min_toru という名前の関数にしましょう．"
   ]
  },
  {
   "cell_type": "code",
   "execution_count": null,
   "metadata": {},
   "outputs": [],
   "source": [
    "# リストdata の a番〜b番の中から最小値を見つけて，\n",
    "# その位置と最小値を返す関数\n",
    "def min_toru(data, a, b): \n",
    "    min_val = data[a]\n",
    "    min_pos = a\n",
    "    for i in range(a,b+1):\n",
    "        if min_val>data[i]:\n",
    "            min_val = data[i]\n",
    "            min_pos = i\n",
    "\n",
    "    return min_pos, min_val"
   ]
  },
  {
   "cell_type": "markdown",
   "metadata": {},
   "source": [
    "では実際に，この関数を使ってみましょう．"
   ]
  },
  {
   "cell_type": "code",
   "execution_count": null,
   "metadata": {},
   "outputs": [],
   "source": [
    "a = [1,5,25,32,10,36,2,37]\n",
    "\n",
    "# リストa のインデックス3~5の中から最小値とその場所を求める．\n",
    "a_min, a_minpos = min_toru(a, 3, 5)\n",
    "\n",
    "print(\"最小値は\",a_min)\n",
    "print(\"そのインデックスは\", a_minpos)"
   ]
  },
  {
   "cell_type": "markdown",
   "metadata": {},
   "source": [
    "関数 ```min_toru``` は２つの返り値 (return で帰ってくる値）を持っていることに注意してください．C言語では１つしか返すことしかできませんが，python では２つ以上の値を返すことができます．"
   ]
  },
  {
   "cell_type": "markdown",
   "metadata": {},
   "source": [
    "## 練習3\n",
    "\n",
    "上記の関数を使って，以下のリストの30番から70番の中から(1) 最小値と (2) その場所を求めてください．"
   ]
  },
  {
   "cell_type": "code",
   "execution_count": null,
   "metadata": {},
   "outputs": [],
   "source": [
    "lis = [903, 343, 101, 394, 412, 117, 560, 310, 861, 731, 949, 147, \\\n",
    "750, 740, 879, 391, 25, 661, 606, 297, 139, 493, 970, 147, 508, 441, \\\n",
    "750, 633, 951, 537, 851, 829, 46, 849, 797, 881, 598, 1, 49, 615, 560, \\\n",
    "184, 368, 253, 36, 630, 37, 737, 316, 639, 383, 800, 66, 87, 402,\\\n",
    "685, 896, 885, 75, 611, 722, 665, 567, 415, 560, 61, 337, 764, 420,\\\n",
    "782, 134, 350, 281, 448, 944, 831, 978, 619, 631, 187, 105, 14, 687, \\\n",
    "590, 998, 962, 555, 663, 77, 254, 260, 704, 677, 263, 352, 565, \\\n",
    "831, 755, 107, 781]\n",
    "\n",
    "XXXXXXXXX\n",
    "X -   - X\n",
    "X   o   X\n",
    "XXXXXXXXX\n",
    "\n",
    "print(f\"30番から70番の中の最小値は{xxxx}です\")\n",
    "print(f\"その位置は{xxxx}です\")"
   ]
  },
  {
   "cell_type": "markdown",
   "metadata": {},
   "source": [
    "## リストの入れ替えの関数\n",
    "\n",
    "最小値を見つけたら，それを配列の左端の値と入れ替える処理があります．\n",
    "以前，授業で入れ替えを学びました"
   ]
  },
  {
   "cell_type": "code",
   "execution_count": null,
   "metadata": {},
   "outputs": [],
   "source": [
    "a = 3\n",
    "b = 5\n",
    "\n",
    "c = a    # a の値を c においておく\n",
    "a = b    # a の値を b の値で書き換え\n",
    "b = c    # c においておいた値を b にいれる\n",
    "\n",
    "print( \"a=\", a )\n",
    "print( \"b=\", b )"
   ]
  },
  {
   "cell_type": "markdown",
   "metadata": {},
   "source": [
    "今回は，これを利用してリストの値のある番号とある番号を入れ替える処理をかきます．"
   ]
  },
  {
   "cell_type": "code",
   "execution_count": null,
   "metadata": {
    "scrolled": true
   },
   "outputs": [],
   "source": [
    "lis = [3,6,7,1,4]\n",
    "a = 1  # 6がある場所\n",
    "b = 3  # 1がある場所\n",
    "\n",
    "temp = lis[a]     # a の場所の値を temp においておく\n",
    "lis[a] = lis[b]   # b の場所の値を a の場所に入れる\n",
    "lis[b] = temp     # temp においておいた値を b にいれる\n",
    "\n",
    "print(lis)"
   ]
  },
  {
   "cell_type": "markdown",
   "metadata": {},
   "source": [
    "あとで使いやすいように関数にしておきましょう．"
   ]
  },
  {
   "cell_type": "markdown",
   "metadata": {},
   "source": [
    "## 練習4: \n",
    "以下の関数の中身を完成させてください．"
   ]
  },
  {
   "cell_type": "code",
   "execution_count": null,
   "metadata": {},
   "outputs": [],
   "source": [
    "def irekae( data, a, b):  # data の a の場所と b の場所の要素を入れ替える\n",
    "    xxxxxxxxxxxxxx\n",
    "    xxxxxxxxxxxxxx\n",
    "    xxxxxxxxxxxxxx\n",
    "    \n",
    "lis = [1,3,2,6,4]\n",
    "irekae(lis, 0, 2) #0番と2番の要素を入れ替える\n",
    "print(lis)"
   ]
  },
  {
   "cell_type": "markdown",
   "metadata": {},
   "source": [
    "## 練習5：選択ソートの全体の作成\n",
    "\n",
    "フローチャートの中のループ２の処理とその後の入れ替えについては上記のように関数にすることができましたので，ループ１をつくって，その中に入れて選択ソートを作ります．以下のプログラムの中でXXXXX を埋めてプログラムを完成させてください．"
   ]
  },
  {
   "cell_type": "code",
   "execution_count": null,
   "metadata": {},
   "outputs": [],
   "source": [
    "# このプログラムで利用する関数 min_toru, irekaeは，上の方のセルで定義しています．\n",
    "\n",
    "#######################################\n",
    "# 選択ソート\n",
    "#######################################\n",
    "\n",
    "lis = [6,1,3,7,10,29]\n",
    "\n",
    "N = len(lis)\n",
    "\n",
    "for i in range(0, N-1):\n",
    "    min_val = lis[i]\n",
    "    place = i\n",
    "    \n",
    "    # 最小値とその場所を探す\n",
    "    place, min_val = min_toru( lis, i, N-1)\n",
    "\n",
    "    #入れ替え\n",
    "    irekae(lis, XXXXXXXX)\n",
    "    \n",
    "print(lis)"
   ]
  },
  {
   "cell_type": "markdown",
   "metadata": {},
   "source": [
    "## 練習6：Python のリストの機能を使って書き換え\n",
    "\n",
    "最初に見たように，C言語の配列とは違ってPythonのリストには操作のために便利な様々な関数が実装されています．これを使うとよりシンプルになります．"
   ]
  },
  {
   "cell_type": "markdown",
   "metadata": {},
   "source": [
    "リストの最小値を返す関数 ```min``` と，値のあるインデックスを返すメソッド ```index```を使えば，```min_toru``` は以下のように書くことができます．"
   ]
  },
  {
   "cell_type": "code",
   "execution_count": null,
   "metadata": {},
   "outputs": [],
   "source": [
    "data.index(min(data[a:b+1]))"
   ]
  },
  {
   "cell_type": "markdown",
   "metadata": {},
   "source": [
    "また，Python では，入れ替えは以下のように書くこともできます．"
   ]
  },
  {
   "cell_type": "code",
   "execution_count": null,
   "metadata": {},
   "outputs": [],
   "source": [
    "a = 3\n",
    "b = 5\n",
    "\n",
    "a,b = b,a\n",
    "\n",
    "print( \"a=\", a )\n",
    "print( \"b=\", b )"
   ]
  },
  {
   "cell_type": "markdown",
   "metadata": {},
   "source": [
    "なので， 関数 ```irekae``` も以下のように１行でおきかえることができます．"
   ]
  },
  {
   "cell_type": "code",
   "execution_count": null,
   "metadata": {},
   "outputs": [],
   "source": [
    "data = [3,6,7,1,4]\n",
    "a = 1  # 6がある場所\n",
    "b = 3  # 1がある場所\n",
    "\n",
    "data[a],data[b] = data[b],data[a] # a と b の場所の数を入れ替え\n",
    "\n",
    "print(data)"
   ]
  },
  {
   "cell_type": "markdown",
   "metadata": {},
   "source": [
    "ということで，これらを使うとさっきのプログラムは以下のようになります．関数の定義が必要なくなった分，プログラム全体は短くなります．"
   ]
  },
  {
   "cell_type": "code",
   "execution_count": null,
   "metadata": {},
   "outputs": [],
   "source": [
    "#######################################\n",
    "# 選択ソート\n",
    "#######################################\n",
    "\n",
    "lis = [6,1,3,7,10,29]\n",
    "N = len(lis)\n",
    "\n",
    "for i in range(0, N-1):\n",
    "    \n",
    "    # iからN-1までの中で最小値の場所を探す\n",
    "    place = lis.index(min(lis[i:N]))\n",
    "\n",
    "    #入れ替え\n",
    "    XXXXXXXXXXXXXXX\n",
    "    \n",
    "print(lis)"
   ]
  },
  {
   "cell_type": "markdown",
   "metadata": {},
   "source": [
    "## 感想"
   ]
  },
  {
   "cell_type": "markdown",
   "metadata": {},
   "source": [
    "名前："
   ]
  },
  {
   "cell_type": "markdown",
   "metadata": {},
   "source": [
    "学籍番号："
   ]
  },
  {
   "cell_type": "markdown",
   "metadata": {},
   "source": [
    "感想："
   ]
  },
  {
   "cell_type": "markdown",
   "metadata": {},
   "source": [
    "ファイルを保存したら，このファイルをファイルメニューの「.ipynbをダウンロード」からダウンロードし，関大LMSで提出してください．（課題を出す場所を間違えないようにしてください）"
   ]
  },
  {
   "cell_type": "code",
   "execution_count": null,
   "metadata": {},
   "outputs": [],
   "source": []
  }
 ],
 "metadata": {
  "anaconda-cloud": {},
  "kernelspec": {
   "display_name": "Python 3 (ipykernel)",
   "language": "python",
   "name": "python3"
  },
  "language_info": {
   "codemirror_mode": {
    "name": "ipython",
    "version": 3
   },
   "file_extension": ".py",
   "mimetype": "text/x-python",
   "name": "python",
   "nbconvert_exporter": "python",
   "pygments_lexer": "ipython3",
   "version": "3.11.5"
  }
 },
 "nbformat": 4,
 "nbformat_minor": 4
}
