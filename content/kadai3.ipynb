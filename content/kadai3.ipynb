{
 "cells": [
  {
   "cell_type": "markdown",
   "metadata": {},
   "source": [
    "# コンピュータの言語2024: 課題３"
   ]
  },
  {
   "cell_type": "markdown",
   "metadata": {},
   "source": [
    "## 1. はじめに\n",
    "\n",
    "[Google colaboratory](https://colab.google) や [jupyter notebook](https://jupyter.org) はプログラムを対話的に実行できる便利な環境です．今年度のコンピュータの言語では， [jupyter lite](https://jupyterlite.readthedocs.io/en/stable/) という環境を使って練習しながら python とプログラムの考え方に慣れていってもらいます．\n",
    "\n",
    "### セルの実行と編集\n",
    "\n",
    "notebook 環境のドキュメントは __セル(Cell)__ というまとまりから構成されています．セルには２種類あります．\n",
    "\n",
    "* __テキストセル__ : 説明や文章を書きます．ダブルクリックで編集することができ，__Shift+Enter__ (Shiftキーを押しながらEnterキーを押す） で確定されます．\n",
    "* __コードセル__ : プログラムを書いて実行します．クリックで編集することができ，__Shift+Enter__ でプログラムが実行されます．\n"
   ]
  },
  {
   "cell_type": "markdown",
   "metadata": {},
   "source": [
    "## 2. python を使った計算"
   ]
  },
  {
   "cell_type": "markdown",
   "metadata": {},
   "source": [
    "### 四則計算"
   ]
  },
  {
   "cell_type": "markdown",
   "metadata": {},
   "source": [
    "いくつかの計算をして見ましょう．四則演算の記号は以下となります．\n",
    "* 足し算：```+```\n",
    "* 引き算：```-```\n",
    "* 掛け算：```*```\n",
    "* 割り算：```/```"
   ]
  },
  {
   "cell_type": "code",
   "execution_count": null,
   "metadata": {
    "colab": {},
    "colab_type": "code",
    "id": "lxySBu7vPVL_"
   },
   "outputs": [],
   "source": [
    "1+1"
   ]
  },
  {
   "cell_type": "code",
   "execution_count": null,
   "metadata": {
    "colab": {},
    "colab_type": "code",
    "id": "oQ_CjkQOPVMH"
   },
   "outputs": [],
   "source": [
    "3-2"
   ]
  },
  {
   "cell_type": "code",
   "execution_count": null,
   "metadata": {
    "colab": {},
    "colab_type": "code",
    "id": "9WBDpkQ2PVMM"
   },
   "outputs": [],
   "source": [
    "4/2"
   ]
  },
  {
   "cell_type": "code",
   "execution_count": null,
   "metadata": {
    "colab": {
     "base_uri": "https://localhost:8080/",
     "height": 34
    },
    "colab_type": "code",
    "executionInfo": {
     "elapsed": 594,
     "status": "ok",
     "timestamp": 1537686382704,
     "user": {
      "displayName": "Ogino Masaki",
      "photoUrl": "",
      "userId": "12716214039947468971"
     },
     "user_tz": -540
    },
    "id": "JAfCpLo8PVMQ",
    "outputId": "9cdc9e14-5678-4694-8e57-9a1ff38ca4ef"
   },
   "outputs": [],
   "source": [
    "2*3"
   ]
  },
  {
   "cell_type": "code",
   "execution_count": null,
   "metadata": {
    "colab": {
     "base_uri": "https://localhost:8080/",
     "height": 34
    },
    "colab_type": "code",
    "executionInfo": {
     "elapsed": 563,
     "status": "ok",
     "timestamp": 1537686384897,
     "user": {
      "displayName": "Ogino Masaki",
      "photoUrl": "",
      "userId": "12716214039947468971"
     },
     "user_tz": -540
    },
    "id": "OPMGfsHwPVMS",
    "outputId": "b484c2a4-ce43-4df9-eff1-4f251d40ec2b"
   },
   "outputs": [],
   "source": [
    "2.0*3"
   ]
  },
  {
   "cell_type": "code",
   "execution_count": null,
   "metadata": {
    "colab": {
     "base_uri": "https://localhost:8080/",
     "height": 34
    },
    "colab_type": "code",
    "executionInfo": {
     "elapsed": 595,
     "status": "ok",
     "timestamp": 1537686387439,
     "user": {
      "displayName": "Ogino Masaki",
      "photoUrl": "",
      "userId": "12716214039947468971"
     },
     "user_tz": -540
    },
    "id": "czcq9a97PVMV",
    "outputId": "3a340b78-25ae-4ba1-a72c-fc6d7c7abf9d"
   },
   "outputs": [],
   "source": [
    "(10+3)*2-1"
   ]
  },
  {
   "cell_type": "markdown",
   "metadata": {},
   "source": [
    "### べき乗\n",
    "\n",
    "$2^3$ は　```**``` という記号を使って計算することができます．２の３乗は８ですね．"
   ]
  },
  {
   "cell_type": "code",
   "execution_count": null,
   "metadata": {
    "colab": {},
    "colab_type": "code",
    "id": "BKwhLmbaPVMY"
   },
   "outputs": [],
   "source": [
    "2**3"
   ]
  },
  {
   "cell_type": "markdown",
   "metadata": {
    "colab_type": "text",
    "id": "Gc1dXdGgPVMf"
   },
   "source": [
    "### 割り算の商と剰余\n",
    "割り算の```/``` は少数まで求めますが，整数だけ求めたいとき，つまり割り算の__商__は ```//```，割り算の__あまり（剰余）__は ```%``` という記号を使って計算することができます．例えば，10を3で割った時の商3と余り1 については以下のように求めることができます．"
   ]
  },
  {
   "cell_type": "code",
   "execution_count": null,
   "metadata": {
    "colab": {},
    "colab_type": "code",
    "id": "rDXH14OjPVMg"
   },
   "outputs": [],
   "source": [
    "10//3 "
   ]
  },
  {
   "cell_type": "code",
   "execution_count": null,
   "metadata": {
    "colab": {},
    "colab_type": "code",
    "id": "aHL6ExqPPVM5"
   },
   "outputs": [],
   "source": [
    "10%3"
   ]
  },
  {
   "cell_type": "markdown",
   "metadata": {
    "colab_type": "text",
    "id": "oviZr5FVPVM-"
   },
   "source": [
    "### コメント\n",
    "プログラムをするときには，コードの説明を入れることがよくあります．この説明のことを __[コメント](http://ja.wikipedia.org/wiki/コメント(コンピュータ)__ と言います．コメントはプログラムでは通常実行されません．\n",
    "\n",
    "Python ではコメント部分を示すのに ```#``` の記号を使い，```＃``` のある場所から行末までがコメントとなります．"
   ]
  },
  {
   "cell_type": "code",
   "execution_count": null,
   "metadata": {
    "colab": {},
    "colab_type": "code",
    "id": "ZB19hyAVPVNQ"
   },
   "outputs": [],
   "source": [
    "10%3  # この部分は説明です．"
   ]
  },
  {
   "cell_type": "markdown",
   "metadata": {
    "colab_type": "text",
    "id": "CbX2EtYxPVNX"
   },
   "source": [
    "### printによる出力\n",
    "ここまでの計算では，全て計算結果がすぐ下に出てきていましたが，複数の計算結果を出力したい場合には ```print``` 命令を使います．書式は\n",
    "\n",
    "```\n",
    "print(出力したいもの)\n",
    "```\n",
    "\n",
    "です．"
   ]
  },
  {
   "cell_type": "code",
   "execution_count": null,
   "metadata": {
    "colab": {},
    "colab_type": "code",
    "id": "m0_1xR46PVNX"
   },
   "outputs": [],
   "source": [
    "print(1+1)\n",
    "print(3+3)\n",
    "print(\"1+1を計算したら\", 1+1, \"になる\")"
   ]
  },
  {
   "cell_type": "markdown",
   "metadata": {
    "colab_type": "text",
    "id": "uMZHil5YPVPA"
   },
   "source": [
    "### ビットとバイト\n",
    "\n",
    "前回の授業では __ビット(bit)__ と __バイト(byte)__ という単位について学習しました．\n",
    "\n",
    "それでは何ビットで何通りのことを表現できるかを調べてみましょう．そのためには，２のべき乗を計算すればよいことになります．$2^n$ は python では ```2**n``` で計算できますので，以下のようになります．"
   ]
  },
  {
   "cell_type": "code",
   "execution_count": null,
   "metadata": {
    "colab": {},
    "colab_type": "code",
    "id": "4u2DMH0UPVPB"
   },
   "outputs": [],
   "source": [
    "print(2**1) # 1ビット\n",
    "print(2**2) # 2ビット\n",
    "print(2**3) # 3ビット"
   ]
  },
  {
   "cell_type": "markdown",
   "metadata": {
    "colab_type": "text",
    "id": "ZMbrpFSNPVPD"
   },
   "source": [
    "次に何バイトで何通りのことを表現できるでしょうか？ 1バイトは8ビットですから，p バイトだと $8 \\times p$  ビットになりますので，"
   ]
  },
  {
   "cell_type": "code",
   "execution_count": null,
   "metadata": {
    "colab": {},
    "colab_type": "code",
    "id": "0Rsbn6orPVPE"
   },
   "outputs": [],
   "source": [
    "print(2**(8))   #1バイト\n",
    "print(2**(8*2)) #2バイト\n",
    "print(2**(8*3)) #3バイト"
   ]
  },
  {
   "cell_type": "markdown",
   "metadata": {
    "colab_type": "text",
    "id": "qx5f_gzbPVPH"
   },
   "source": [
    "バイト数が大きくなると急速に大きな数になっていることがわかりますね．"
   ]
  },
  {
   "cell_type": "markdown",
   "metadata": {},
   "source": [
    "## 3. データ型(type)\n",
    "\n",
    "プログラムにはどんな言語にも様々なデータの型があります．Python には以下の型があります．\n",
    "\n",
    "* __数値型__\n",
    "\t* 整数 (__int__)\n",
    "\t* 浮動小数点（__float__）\n",
    "* __文字列型__ (__str__)\n",
    "* __真偽型__ (__bool__)\n",
    "\n",
    "そして，それらを複数集めて一緒に使うための型があります．\n",
    "\n",
    "* __リスト型__ (__list__)\n",
    "* __辞書型__ (__dict__)\n",
    "* __タプル型__ (__tuple__)\n",
    "\n",
    "今回は上の，数値型，文字列型，論理型について扱います．\n",
    "\n",
    "__以下では，例にある計算や式を下のセルに入力して実行してください__\n",
    "（キーボードで入力してキーボード入力に慣れるようにしてください）\n",
    "\n",
    "__プログラムの実行は，実行したい行（セル）を選択して shiftキーを押しながらenter(またはreturn) キーを押します．__"
   ]
  },
  {
   "cell_type": "markdown",
   "metadata": {},
   "source": [
    "### 数値型\n",
    "\n",
    "\n",
    "#### 整数\n",
    "```python\n",
    "1+1\n",
    "```"
   ]
  },
  {
   "cell_type": "code",
   "execution_count": null,
   "metadata": {},
   "outputs": [],
   "source": []
  },
  {
   "cell_type": "markdown",
   "metadata": {},
   "source": [
    "#### 浮動小数点\n",
    "浮動小数点数であることを明示するために ```.0``` をつけます．\n",
    "```python\n",
    "1.0+1.0\n",
    "```"
   ]
  },
  {
   "cell_type": "code",
   "execution_count": null,
   "metadata": {},
   "outputs": [],
   "source": []
  },
  {
   "cell_type": "markdown",
   "metadata": {},
   "source": [
    "整数と浮動小数点の数を一緒に計算すると，自動的に __型変換__ が行われて，結果は浮動小数点型になります．\n",
    "```python\n",
    "1+2.0\n",
    "```"
   ]
  },
  {
   "cell_type": "code",
   "execution_count": null,
   "metadata": {},
   "outputs": [],
   "source": []
  },
  {
   "cell_type": "markdown",
   "metadata": {},
   "source": [
    "### 文字列\n",
    "\n",
    "\" \" や '' の記号で囲まれた文字が ___文字列___ として扱われます．どちらの記号を使っても構いません．\n",
    "```python\n",
    "\"Hello\"\n",
    "```"
   ]
  },
  {
   "cell_type": "code",
   "execution_count": null,
   "metadata": {},
   "outputs": [],
   "source": []
  },
  {
   "cell_type": "markdown",
   "metadata": {},
   "source": [
    "```python\n",
    "'Hello'\n",
    "```"
   ]
  },
  {
   "cell_type": "code",
   "execution_count": null,
   "metadata": {},
   "outputs": [],
   "source": []
  },
  {
   "cell_type": "markdown",
   "metadata": {},
   "source": [
    "文字列型での足し算は，二つの文字列をくっつける操作になります．\n",
    "```python\n",
    "'Hello' + 'Python'\n",
    "```"
   ]
  },
  {
   "cell_type": "code",
   "execution_count": null,
   "metadata": {},
   "outputs": [],
   "source": []
  },
  {
   "cell_type": "markdown",
   "metadata": {},
   "source": [
    "数字も \"\" で囲まれると文字列として扱われます．例えば，数字の 1 と文字の 1 の足し算をするとエラーになります．\n",
    "```python\n",
    "1 + '1'\n",
    "```"
   ]
  },
  {
   "cell_type": "code",
   "execution_count": null,
   "metadata": {},
   "outputs": [],
   "source": []
  },
  {
   "cell_type": "markdown",
   "metadata": {},
   "source": [
    "上のエラー表示の ___TypeError___ は「型のエラー」ということですね．int（整数）と str（文字列）では足し算ができないと怒られます．"
   ]
  },
  {
   "cell_type": "markdown",
   "metadata": {},
   "source": [
    "### 型の確認と変換"
   ]
  },
  {
   "cell_type": "markdown",
   "metadata": {},
   "source": [
    "型(type)の確認は ```type()``` という関数で確かめることができます．以下のそれぞれの命令の結果を確かめてください．\n",
    "```python\n",
    "type(1), type(1.0), type('hello')\n",
    "```"
   ]
  },
  {
   "cell_type": "code",
   "execution_count": null,
   "metadata": {},
   "outputs": [],
   "source": []
  },
  {
   "cell_type": "code",
   "execution_count": null,
   "metadata": {},
   "outputs": [],
   "source": []
  },
  {
   "cell_type": "code",
   "execution_count": null,
   "metadata": {},
   "outputs": [],
   "source": []
  },
  {
   "cell_type": "markdown",
   "metadata": {},
   "source": [
    "異なる型どうしでも適切に型の変換をしてやることで演算をすることができます．型変換をする関数には ```int(), float(), str()``` があります．\n",
    "```python\n",
    "1 + int('1')   # '1' を整数型の1として扱ってほしい\n",
    "```"
   ]
  },
  {
   "cell_type": "code",
   "execution_count": null,
   "metadata": {},
   "outputs": [],
   "source": []
  },
  {
   "cell_type": "markdown",
   "metadata": {},
   "source": [
    "```python\n",
    "str(1) + '2'   # 1 を 文字列型の'1' として扱ってほしい \n",
    "```"
   ]
  },
  {
   "cell_type": "code",
   "execution_count": null,
   "metadata": {},
   "outputs": [],
   "source": []
  },
  {
   "cell_type": "markdown",
   "metadata": {},
   "source": [
    "### 真偽型\n",
    "\n",
    "論理型，ブール型とも言います．__真(True)__か__偽(False)__の２つの値だけを示す場合に使われます．以下では２つの数値を比較する演算子（__比較演算子__) の結果が真偽型で表示されている例です．\n",
    "```python\n",
    "3>1\n",
    "```"
   ]
  },
  {
   "cell_type": "code",
   "execution_count": null,
   "metadata": {},
   "outputs": [],
   "source": []
  },
  {
   "cell_type": "markdown",
   "metadata": {},
   "source": [
    "```python\n",
    "3<1\n",
    "```"
   ]
  },
  {
   "cell_type": "code",
   "execution_count": null,
   "metadata": {},
   "outputs": [],
   "source": []
  },
  {
   "cell_type": "markdown",
   "metadata": {},
   "source": [
    "比較演算子には以下のようなものがあります．\n",
    "\n",
    "|演算子| 使用例 | 意味 |\n",
    "|------|--------|------|\n",
    "| == | a==b | a と b が等しければ True |\n",
    "| != | a!=b | a と b が違うなら True |\n",
    "| < | a<b | a が b 未満なら True |\n",
    "| <= | a<=b | a が b 以下なら True |\n",
    "| >= | a>=b | a が b 以上なら True |\n",
    "| > | a>b | aがbより大きいなら True |\n",
    "\n",
    "他の言語と異なり，２つの比較をつなげることができます．\n",
    "```python\n",
    "print( 1<2<3 )\n",
    "print( 2<3<1 )\n",
    "```"
   ]
  },
  {
   "cell_type": "code",
   "execution_count": null,
   "metadata": {},
   "outputs": [],
   "source": [
    "\n"
   ]
  },
  {
   "cell_type": "markdown",
   "metadata": {},
   "source": [
    "## 論理演算\n",
    "\n",
    "論理型には ```and``` や ```or``` などの演算子があります．\n",
    "```python\n",
    "True and False\n",
    "```"
   ]
  },
  {
   "cell_type": "code",
   "execution_count": null,
   "metadata": {},
   "outputs": [],
   "source": []
  },
  {
   "cell_type": "markdown",
   "metadata": {},
   "source": [
    "```python\n",
    "True or False\n",
    "```"
   ]
  },
  {
   "cell_type": "code",
   "execution_count": null,
   "metadata": {},
   "outputs": [],
   "source": []
  },
  {
   "cell_type": "markdown",
   "metadata": {},
   "source": [
    "True と 1 False と 0 は同じものとして扱われます．\n",
    "```python\n",
    "True==1\n",
    "```"
   ]
  },
  {
   "cell_type": "code",
   "execution_count": null,
   "metadata": {},
   "outputs": [],
   "source": []
  },
  {
   "cell_type": "markdown",
   "metadata": {},
   "source": [
    "```python\n",
    "False==0\n",
    "```"
   ]
  },
  {
   "cell_type": "code",
   "execution_count": null,
   "metadata": {},
   "outputs": [],
   "source": []
  },
  {
   "cell_type": "markdown",
   "metadata": {},
   "source": [
    "```not``` は否定です．\n",
    "```python\n",
    "print(not True)\n",
    "print(not False)\n",
    "```"
   ]
  },
  {
   "cell_type": "code",
   "execution_count": null,
   "metadata": {},
   "outputs": [],
   "source": [
    "\n"
   ]
  },
  {
   "cell_type": "markdown",
   "metadata": {},
   "source": [
    "「6 は2で割り切れ，かつ3でも割り切れる」は真でしょうか偽でしょうか？\n",
    "\n",
    "「6が2で割り切れる」は 「6を2で割った余りが0である」ということですから，```6%2==0```　とかけます．\n",
    "\n",
    "「かつ」は ```and``` ですから以下のように書くことができます．\n",
    "\n",
    "```python\n",
    "(6%2==0) and (6%3==0)\n",
    "```"
   ]
  },
  {
   "cell_type": "code",
   "execution_count": null,
   "metadata": {},
   "outputs": [],
   "source": []
  },
  {
   "cell_type": "markdown",
   "metadata": {},
   "source": [
    "## 4. 変数\n",
    "\n",
    "プログラムではデータをそのまま扱うことは稀で，ふつうデータに名前をつけて操作を行います．この名前のことを __変数__ といいます．\n",
    "\n",
    "Python では変数が何のデータ型なのかを指定せずに，すぐに定義することができます．\n",
    "\n",
    "```python\n",
    "x = 3      # 3 という数字を用意して，それに x という名前をつける\n",
    "print(x)   # x の中身を出力する\n",
    "```"
   ]
  },
  {
   "cell_type": "code",
   "execution_count": null,
   "metadata": {},
   "outputs": [],
   "source": [
    "\n"
   ]
  },
  {
   "cell_type": "markdown",
   "metadata": {},
   "source": [
    "変数を初めて宣言する時に，型を指定しなくてもよいのは，よい面もありますが，悪い面もあります．他の人のプログラムを見た時に，その変数がどのような型で使われているのかわからない時があるからです．そんな時は，```type``` 関数で型を調べることが助けになります．\n",
    "\n",
    "```python\n",
    "x = 3 \n",
    "print(x)\n",
    "print(type(x))\n",
    "\n",
    "x = \"Hello\"\n",
    "print(x)\n",
    "print(type(x))\n",
    "```"
   ]
  },
  {
   "cell_type": "code",
   "execution_count": null,
   "metadata": {},
   "outputs": [],
   "source": [
    "x=3\n",
    "print(x)\n",
    "print(type(x))"
   ]
  },
  {
   "cell_type": "code",
   "execution_count": null,
   "metadata": {},
   "outputs": [],
   "source": [
    "x = \"Hello\"\n",
    "print(x)\n",
    "print(type(x))"
   ]
  },
  {
   "cell_type": "markdown",
   "metadata": {},
   "source": [
    "## print"
   ]
  },
  {
   "cell_type": "markdown",
   "metadata": {},
   "source": [
    "```print``` 命令で変数の値を出力するときに，変数の数値や文字を文の中に埋め込むとわかりやすい出力になります．\n",
    "\n",
    "\n",
    "そのためには，文字列型のformat というメソッドを使います．"
   ]
  },
  {
   "cell_type": "code",
   "execution_count": null,
   "metadata": {},
   "outputs": [],
   "source": [
    "x=3\n",
    "print( \"xの値は{}です\".format(x) )"
   ]
  },
  {
   "cell_type": "code",
   "execution_count": null,
   "metadata": {},
   "outputs": [],
   "source": [
    "x=\"This is a pen.\"\n",
    "y=\"これはペンです\"\n",
    "print( \"「{}」の日本語訳は「{}」です．\".format(x,y) )"
   ]
  },
  {
   "cell_type": "markdown",
   "metadata": {},
   "source": [
    "また，python3.6 からは __f文字列__ という表記でも，変数を文字列に埋め込むことができます．文字列の前に f を書き，{} の中に変数名を書きます．こちらの方が簡単ですね．"
   ]
  },
  {
   "cell_type": "code",
   "execution_count": null,
   "metadata": {},
   "outputs": [],
   "source": [
    "x = 3\n",
    "print( f'xの値は{x}です')\n",
    "x = 'Good morning!'\n",
    "y = 'おはよう'\n",
    "print( f'{x}の日本語訳は{y}です．' )"
   ]
  },
  {
   "cell_type": "markdown",
   "metadata": {},
   "source": [
    "# 課題\n",
    "\n",
    "* 必ず実行結果を出力するようにしてください．\n",
    "\n",
    "__[1]__  文字列に対して * の演算子を使うと結果はどうなるでしょう．以下のプログラムの結果を下に書いて出力を調べてください．\n",
    "\n",
    "```python\n",
    "\"hello\"*6\n",
    "```"
   ]
  },
  {
   "cell_type": "code",
   "execution_count": null,
   "metadata": {
    "problem": 1
   },
   "outputs": [],
   "source": []
  },
  {
   "cell_type": "markdown",
   "metadata": {},
   "source": [
    "__[2]__ 250円の定規を4本、60円のクレヨンを8本を2割引で購入しました。消費税を10%として、支払い金額を求めるために、以下の式の XXXX, YYYY, ZZZZ の部分を編集して完成させてください。"
   ]
  },
  {
   "cell_type": "code",
   "execution_count": null,
   "metadata": {
    "problem": 2
   },
   "outputs": [],
   "source": [
    "pay =  (XXXX*4 + YYYY*8)*0.8*ZZZZ\n",
    "print(pay)"
   ]
  },
  {
   "cell_type": "markdown",
   "metadata": {},
   "source": [
    "__[3]__ 「xが0よりも大きい」かつ「xを5で割ったあまりが2よりも小さい」という条件にあえば True、合わなかったら False が出力されるように、以下のプログラムを完成させてください。"
   ]
  },
  {
   "cell_type": "code",
   "execution_count": null,
   "metadata": {
    "problem": 3
   },
   "outputs": [],
   "source": [
    "x = 7\n",
    "hantei = (XXXXXX) and (YYYYYY)\n",
    "print(hantei)"
   ]
  },
  {
   "cell_type": "markdown",
   "metadata": {},
   "source": [
    "__[4]__ y は100以下の数で3で割っても4で割っても割り切れる数であれば True, そうでなければ False を出力するように，以下のプログラムを完成してください．"
   ]
  },
  {
   "cell_type": "code",
   "execution_count": null,
   "metadata": {
    "problem": 4
   },
   "outputs": [],
   "source": [
    "y = 24\n",
    "hantei =  (XXXXXX) and (YYYYYY)\n",
    "print(hantei)"
   ]
  },
  {
   "cell_type": "markdown",
   "metadata": {},
   "source": [
    "__[5]__ 以下のプログラムを改変して、「大谷翔平は2024年に..歳になります」と出力するように、以下の式の XXXX, YYYY, ZZZZ の部分を変数を使って書いてください。"
   ]
  },
  {
   "cell_type": "code",
   "execution_count": null,
   "metadata": {
    "problem": 5,
    "tags": []
   },
   "outputs": [],
   "source": [
    "year_birth = 1994\n",
    "year_now   = 2024\n",
    "age = XXXXXXXX # year_birth と year_now を使った式で書いてください\n",
    "print(f\"大谷翔平は{YYYYY}年に{ZZZZZZ}歳になります\")"
   ]
  },
  {
   "cell_type": "markdown",
   "metadata": {},
   "source": [
    "__[6]__ 標高が100m高くなると、気温が0.6度下がると言われています．高槻キャンパスの標高は約200mです．ある日の大阪市（海抜0mとする）の気温が20度であるときの高槻キャンパスの気温は何度と計算できるでしょう．以下のプログラムの xxxx, yyyyyy を変更してプログラムを完成させてください．"
   ]
  },
  {
   "cell_type": "code",
   "execution_count": null,
   "metadata": {},
   "outputs": [],
   "source": [
    "altitude = 200       # 標高\n",
    "temp_0 = xxxx        # 標高0mでの気温\n",
    "\n",
    "temp_takatsuki = yyyyyyyyyyyyyyyyyyyyyy\n",
    "print(f\"高槻キャンパスの気温は{temp_takatsuki}です\")"
   ]
  },
  {
   "cell_type": "markdown",
   "metadata": {},
   "source": [
    "# 課題の提出\n",
    "\n",
    "以下をダブルクリックして入力してください"
   ]
  },
  {
   "cell_type": "markdown",
   "metadata": {},
   "source": [
    "名前："
   ]
  },
  {
   "cell_type": "markdown",
   "metadata": {},
   "source": [
    "学籍番号："
   ]
  },
  {
   "cell_type": "markdown",
   "metadata": {},
   "source": [
    "感想："
   ]
  },
  {
   "cell_type": "markdown",
   "metadata": {},
   "source": [
    "ファイルを保存したら，このファイルを「ダウンロード」ボタンからダウンロードし（左のファイルブラウザでファイルを選択して右クリックし，Downloadを選択してダウンロードすることもできます），関大LMSで提出してください．\n",
    "\n",
    "__注意：ダウンロードしたファイルは Word などのアプリケーションで中身を確認することはできません．中身を確認したい場合は jupyterlite あるいは Google Colab にアップロードして確認してください．__"
   ]
  }
 ],
 "metadata": {
  "anaconda-cloud": {},
  "kernelspec": {
   "display_name": "Python 3 (ipykernel)",
   "language": "python",
   "name": "python3"
  },
  "language_info": {
   "codemirror_mode": {
    "name": "ipython",
    "version": 3
   },
   "file_extension": ".py",
   "mimetype": "text/x-python",
   "name": "python",
   "nbconvert_exporter": "python",
   "pygments_lexer": "ipython3",
   "version": "3.11.5"
  }
 },
 "nbformat": 4,
 "nbformat_minor": 4
}
